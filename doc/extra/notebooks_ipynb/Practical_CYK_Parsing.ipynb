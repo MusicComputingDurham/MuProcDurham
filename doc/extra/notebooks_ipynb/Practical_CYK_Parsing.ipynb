{
 "cells": [
  {
   "cell_type": "markdown",
   "id": "55e53281273254b9",
   "metadata": {},
   "source": [
    "# Practical: CYK Parsing"
   ]
  },
  {
   "cell_type": "markdown",
   "id": "9a5898eefe97b573",
   "metadata": {},
   "source": [
    "## Working with Charts"
   ]
  },
  {
   "cell_type": "markdown",
   "id": "cafac5a83ff57f94",
   "metadata": {},
   "source": [
    "Familiarise yourself with the following two types of charts that are useful for parsing CFGs."
   ]
  },
  {
   "cell_type": "code",
   "execution_count": 1,
   "id": "ee64cbad8cc53c89",
   "metadata": {
    "ExecuteTime": {
     "end_time": "2024-03-07T19:44:21.337875741Z",
     "start_time": "2024-03-07T19:44:21.273796285Z"
    }
   },
   "outputs": [
    {
     "data": {
      "text/html": [
       "<style>div.output_area pre {white-space: pre;}</style>"
      ],
      "text/plain": [
       "<IPython.core.display.HTML object>"
      ]
     },
     "metadata": {},
     "output_type": "display_data"
    },
    {
     "data": {
      "text/html": [
       "<style>div.jp-OutputArea-output pre {white-space: pre;}</style>"
      ],
      "text/plain": [
       "<IPython.core.display.HTML object>"
      ]
     },
     "metadata": {},
     "output_type": "display_data"
    }
   ],
   "source": [
    "from muprocdurham.pcfg import SetChart, DictSetChart, cat_pretty\n",
    "from muprocdurham.jupyter import no_linebreaks\n",
    "from muprocdurham import seed_everything\n",
    "\n",
    "seed_everything(42)\n",
    "no_linebreaks()"
   ]
  },
  {
   "cell_type": "markdown",
   "id": "da6597a588980228",
   "metadata": {},
   "source": [
    "### SetChart"
   ]
  },
  {
   "cell_type": "markdown",
   "id": "776e25b76de3086",
   "metadata": {},
   "source": [
    "A ``SetChart`` stores sets of elements/symbols in each cell. You can initialise and print it like this:"
   ]
  },
  {
   "cell_type": "code",
   "execution_count": 2,
   "id": "921ce9d1a3dbcce7",
   "metadata": {
    "ExecuteTime": {
     "end_time": "2024-03-07T19:44:21.767135951Z",
     "start_time": "2024-03-07T19:44:21.273968297Z"
    }
   },
   "outputs": [
    {
     "name": "stdout",
     "output_type": "stream",
     "text": [
      "     ╱╲     \n",
      "    ╱ ∅╲    \n",
      "   ╱╲  ╱╲   \n",
      "  ╱ ∅╲╱ ∅╲  \n",
      " ╱╲  ╱╲  ╱╲ \n",
      "╱ ∅╲╱ ∅╲╱ ∅╲\n",
      "│   │   │   │\n",
      "0   1   2   3   \n"
     ]
    }
   ],
   "source": [
    "chart = SetChart(3)\n",
    "print(chart.pretty(haxis=True))"
   ]
  },
  {
   "cell_type": "markdown",
   "id": "c2dde60f8884e98b",
   "metadata": {},
   "source": [
    "You can access a cell via ``chart[start, end]``, where ``start`` and ``end`` are the index of the left and right boundary of the sub-chart (\"triangle\") of which the corresponding cell is the top. The following simply adds the ``(start, end)`` pairs to each cell to give you an overview of the indexing."
   ]
  },
  {
   "cell_type": "code",
   "execution_count": 3,
   "id": "6fbca921e96ea262",
   "metadata": {
    "ExecuteTime": {
     "end_time": "2024-03-07T19:44:21.767397288Z",
     "start_time": "2024-03-07T19:44:21.755278626Z"
    }
   },
   "outputs": [
    {
     "name": "stdout",
     "output_type": "stream",
     "text": [
      "              ╱╲              \n",
      "             ╱  ╲             \n",
      "            ╱    ╲            \n",
      "           ╱      ╲           \n",
      "          ╱{(0, 3)}╲          \n",
      "         ╱╲        ╱╲         \n",
      "        ╱  ╲      ╱  ╲        \n",
      "       ╱    ╲    ╱    ╲       \n",
      "      ╱      ╲  ╱      ╲      \n",
      "     ╱{(0, 2)}╲╱{(1, 3)}╲     \n",
      "    ╱╲        ╱╲        ╱╲    \n",
      "   ╱  ╲      ╱  ╲      ╱  ╲   \n",
      "  ╱    ╲    ╱    ╲    ╱    ╲  \n",
      " ╱      ╲  ╱      ╲  ╱      ╲ \n",
      "╱{(0, 1)}╲╱{(1, 2)}╲╱{(2, 3)}╲\n",
      "│         │         │         │\n",
      "0         1         2         3         \n"
     ]
    }
   ],
   "source": [
    "for start in range(chart.n):\n",
    "    for end in range(start + 1, chart.n + 1):\n",
    "        chart[start, end].add((start, end))\n",
    "print(chart.pretty(haxis=True))"
   ]
  },
  {
   "cell_type": "markdown",
   "id": "5f3c07ac39a071a2",
   "metadata": {},
   "source": [
    "**Exercise:** Add the symbol 'A' to the very top cell, the symbol 'B' to the center bottom cell, the symbol 'C' to the cell spanning from 1 to 3, and finally a second symbol 'D' to the very top cell.\n",
    "\n",
    "*Hint:* ``chart[start, end]`` gives you access to the corresponding ``set`` in that cell, which you can then manipulate.\n",
    "\n",
    "Your result should look as below."
   ]
  },
  {
   "cell_type": "code",
   "execution_count": 4,
   "id": "db763edf75208b8e",
   "metadata": {
    "ExecuteTime": {
     "end_time": "2024-03-07T19:44:21.784614265Z",
     "start_time": "2024-03-07T19:44:21.759077300Z"
    }
   },
   "outputs": [
    {
     "name": "stdout",
     "output_type": "stream",
     "text": [
      "           ╱╲           \n",
      "          ╱  ╲          \n",
      "         ╱    ╲         \n",
      "        ╱ {D,A}╲        \n",
      "       ╱╲      ╱╲       \n",
      "      ╱  ╲    ╱  ╲      \n",
      "     ╱    ╲  ╱    ╲     \n",
      "    ╱     ∅╲╱   {C}╲    \n",
      "   ╱╲      ╱╲      ╱╲   \n",
      "  ╱  ╲    ╱  ╲    ╱  ╲  \n",
      " ╱    ╲  ╱    ╲  ╱    ╲ \n",
      "╱     ∅╲╱   {B}╲╱     ∅╲\n",
      "│       │       │       │\n",
      "0       1       2       3       \n"
     ]
    }
   ],
   "source": [
    "chart = SetChart(3)\n",
    "# vvvvvvvvvvvvvvvvvv\n",
    "# FILL HERE\n",
    "chart[0, 3].add('A')\n",
    "chart[1, 2].add('B')\n",
    "chart[1, 3].add('C')\n",
    "chart[0, 3].add('D')\n",
    "# ^^^^^^^^^^^^^^^^^^\n",
    "print(chart.pretty(haxis=True))"
   ]
  },
  {
   "cell_type": "markdown",
   "id": "a9d05d457337a8b5",
   "metadata": {},
   "source": [
    "Finally, to help with orientation, you can also print the level, which corresponds to the length of the *span* (the corresponding subsequence) associated to the cells."
   ]
  },
  {
   "cell_type": "code",
   "execution_count": 5,
   "id": "2ebf2d9d36b97865",
   "metadata": {
    "ExecuteTime": {
     "end_time": "2024-03-07T19:44:21.869013858Z",
     "start_time": "2024-03-07T19:44:21.780356300Z"
    }
   },
   "outputs": [
    {
     "name": "stdout",
     "output_type": "stream",
     "text": [
      "           ╱╲            level\n",
      "          ╱  ╲          \n",
      "         ╱    ╲         \n",
      "        ╱ {D,A}╲         3\n",
      "       ╱╲      ╱╲       \n",
      "      ╱  ╲    ╱  ╲      \n",
      "     ╱    ╲  ╱    ╲     \n",
      "    ╱     ∅╲╱   {C}╲     2\n",
      "   ╱╲      ╱╲      ╱╲   \n",
      "  ╱  ╲    ╱  ╲    ╱  ╲  \n",
      " ╱    ╲  ╱    ╲  ╱    ╲ \n",
      "╱     ∅╲╱   {B}╲╱     ∅╲ 1\n",
      "│       │       │       │\n",
      "0       1       2       3       \n"
     ]
    }
   ],
   "source": [
    "print(chart.pretty(haxis=True, laxis=True))"
   ]
  },
  {
   "cell_type": "markdown",
   "id": "515e58f0ab37152",
   "metadata": {},
   "source": [
    "### DictSetChart"
   ]
  },
  {
   "cell_type": "markdown",
   "id": "5d8b24e720ca131b",
   "metadata": {},
   "source": [
    "A ``DictSetChart`` is similar to a ``SetChart``, just that is stores a *dictionary* of sets in each cell. This means that you can store a set of values along with each of the symbols.\n",
    "\n",
    "**Exercise:** In the top cell, add the values ``1`` and ``2`` to the symbol 'A' and the value ``3`` to the symbol 'B'.\n",
    "\n",
    "*Hint:* ``chart[start, end]`` gives you access to a ``dict`` of ``set``s in that cell, which you can then manipulate.\n",
    "\n",
    "Your result should look as below."
   ]
  },
  {
   "cell_type": "code",
   "execution_count": 6,
   "id": "1a29c2045c744611",
   "metadata": {
    "ExecuteTime": {
     "end_time": "2024-03-07T19:44:21.869337902Z",
     "start_time": "2024-03-07T19:44:21.825798694Z"
    }
   },
   "outputs": [
    {
     "name": "stdout",
     "output_type": "stream",
     "text": [
      "                 ╱╲                 \n",
      "                ╱  ╲                \n",
      "               ╱    ╲               \n",
      "              ╱      ╲              \n",
      "             ╱        ╲             \n",
      "            ╱          ╲            \n",
      "           ╱            ╲           \n",
      "          ╱              ╲          \n",
      "         ╱ {A:{1,2},B:{3}}╲         \n",
      "        ╱╲                ╱╲        \n",
      "       ╱  ╲              ╱  ╲       \n",
      "      ╱    ╲            ╱    ╲      \n",
      "     ╱      ╲          ╱      ╲     \n",
      "    ╱        ╲        ╱        ╲    \n",
      "   ╱          ╲      ╱          ╲   \n",
      "  ╱            ╲    ╱            ╲  \n",
      " ╱              ╲  ╱              ╲ \n",
      "╱              {}╲╱              {}╲\n"
     ]
    }
   ],
   "source": [
    "chart = DictSetChart(2)\n",
    "# vvvvvvvvvvvvvvvvvvvvv\n",
    "# FILL HERE\n",
    "chart[0, 2]['A'].add(1)\n",
    "chart[0, 2]['A'].add(2)\n",
    "chart[0, 2]['B'].add(3)\n",
    "# ^^^^^^^^^^^^^^^^^^^^^\n",
    "print(chart.pretty())"
   ]
  },
  {
   "cell_type": "markdown",
   "id": "1d9e6c14-9928-46df-a016-5d250608838b",
   "metadata": {},
   "source": [
    "## Minimal Example by Hand"
   ]
  },
  {
   "cell_type": "markdown",
   "id": "e5ab1743-b5c2-47ad-ba92-739d66fda6e3",
   "metadata": {},
   "source": [
    "- non-terminals: `{A, B}`\n",
    "- terminals: `{a, b}`\n",
    "- start symbol: `A`\n",
    "- rules:\n",
    "  - `A --> A A`\n",
    "  - `A --> B A`\n",
    "  - `A --> a`\n",
    "  - `B --> b`\n",
    "  \n",
    "Sequence to parse: `a a b b a`"
   ]
  },
  {
   "cell_type": "code",
   "execution_count": 7,
   "id": "a039dab1-5794-4d6a-b59f-d482b0c7ee48",
   "metadata": {},
   "outputs": [
    {
     "name": "stdout",
     "output_type": "stream",
     "text": [
      "              ╱╲               level\n",
      "             ╱  ╲             \n",
      "            ╱ {A}╲             5\n",
      "           ╱╲    ╱╲           \n",
      "          ╱  ╲  ╱  ╲          \n",
      "         ╱   ∅╲╱ {A}╲          4\n",
      "        ╱╲    ╱╲    ╱╲        \n",
      "       ╱  ╲  ╱  ╲  ╱  ╲       \n",
      "      ╱   ∅╲╱   ∅╲╱ {A}╲       3\n",
      "     ╱╲    ╱╲    ╱╲    ╱╲     \n",
      "    ╱  ╲  ╱  ╲  ╱  ╲  ╱  ╲    \n",
      "   ╱ {A}╲╱   ∅╲╱   ∅╲╱ {A}╲    2\n",
      "  ╱╲    ╱╲    ╱╲    ╱╲    ╱╲  \n",
      " ╱  ╲  ╱  ╲  ╱  ╲  ╱  ╲  ╱  ╲ \n",
      "╱ {A}╲╱ {A}╲╱ {B}╲╱ {B}╲╱ {A}╲ 1\n",
      "│     │     │     │     │     │\n",
      "0     1     2     3     4     5     \n",
      "   a     a     b     b     a\n"
     ]
    }
   ],
   "source": [
    "chart = SetChart(5)\n",
    "sequence = 'aabba'\n",
    "\n",
    "# fill base level 1\n",
    "chart[0, 1].add('A')  # A --> a\n",
    "chart[1, 2].add('A')  # A --> a\n",
    "chart[2, 3].add('B')  # B --> b\n",
    "chart[3, 4].add('B')  # B --> b\n",
    "chart[4, 5].add('A')  # A --> a\n",
    "\n",
    "# fill level 2\n",
    "chart[0, 2].add('A')  # A --> A A (split at 1)\n",
    "chart[3, 5].add('A')  # A --> B A (split at 4)\n",
    "\n",
    "# fill level 3\n",
    "chart[2, 5].add('A')  # A --> B A (split at 3)\n",
    "\n",
    "# fill level 4\n",
    "chart[1, 5].add('A')  # A --> A A (split at 2)\n",
    "\n",
    "# fill level 5\n",
    "chart[0, 5].add('A')  # A --> A A (split at 1)\n",
    "chart[0, 5].add('A')  # A --> A A (split at 2)\n",
    "\n",
    "print(chart.pretty(haxis=True, laxis=True))\n",
    "print('   ' + '     '.join(sequence))"
   ]
  },
  {
   "cell_type": "markdown",
   "id": "ad5de0f0b498bae",
   "metadata": {},
   "source": [
    "## CYK Parsing"
   ]
  },
  {
   "cell_type": "markdown",
   "id": "68330b25ac815894",
   "metadata": {},
   "source": [
    "### Simple CYK Parser"
   ]
  },
  {
   "cell_type": "markdown",
   "id": "2d6c6003f5aed616",
   "metadata": {},
   "source": [
    "We are now equipped for implementing a CYK parser for a context-free grammar (CFG). Below is a template class, which you can complete using the pseudocode from the lecture slides."
   ]
  },
  {
   "cell_type": "code",
   "execution_count": 8,
   "id": "4e5c733cdb4b47ab",
   "metadata": {
    "ExecuteTime": {
     "end_time": "2024-03-07T19:44:21.869414909Z",
     "start_time": "2024-03-07T19:44:21.825884679Z"
    }
   },
   "outputs": [],
   "source": [
    "class CFG:\n",
    "    def __init__(self, non_terminal_rules, terminal_rules, start_symbol):\n",
    "\n",
    "        # store the non-terminal rules as triplets: A --> B C is stored as ('A', 'B', 'C')\n",
    "        self.non_terminal_rules = set(tuple(r) for r in non_terminal_rules)  \n",
    "        # store the terminal rules as pairs: A --> a is stored as ('A', 'a')\n",
    "        self.terminal_rules = set(tuple(r) for r in terminal_rules)  \n",
    "        # the start symbol\n",
    "        self.start_symbol = start_symbol\n",
    "        \n",
    "        # the chart is initialised by the init_chart() function called by the parse() function\n",
    "        self.chart = None\n",
    "        \n",
    "        # extracting the non-terminal and terminal symbols from the rules\n",
    "        self.non_terminal_symbols = set.union(*[{x1, x2, x3} for x1, x2, x3 in self.non_terminal_rules])\n",
    "        self.terminal_symbols = {y for x, y in self.terminal_rules}\n",
    "        # make sure the start symbol is in the set of non-terminal symbols\n",
    "        assert start_symbol in self.non_terminal_symbols, f\"Start symbol '{start_symbol}' must be in non-terminals\"\n",
    "    \n",
    "    def init_chart(self, n):\n",
    "        # Override this function for using other chart types\n",
    "        self.chart = SetChart(n)\n",
    "        \n",
    "    def parse(self, sequence):\n",
    "        n = len(sequence)\n",
    "        self.init_chart(n)\n",
    "        \n",
    "        # fill bottom row using terminal rules\n",
    "        # vvvvvvvvvvvvvvvvvvvvvvvvvvvvvvvvvvvv\n",
    "        # FILL HERE\n",
    "        for start, terminal_symbol in enumerate(sequence):\n",
    "            self.fill_terminal_cell(start, terminal_symbol)\n",
    "        # ^^^^^^^^^^^^^^^^^^^^^^^^^^^^^^^^^^^^\n",
    "        \n",
    "        # fill rows, bottom up, using non-terminal rules\n",
    "        # vvvvvvvvvvvvvvvvvvvvvvvvvvvvvvvvvvvvvvvvvvvvvv\n",
    "        # FILL HERE\n",
    "        for level in range(2, n + 1):  # length of sub-sequence\n",
    "            for start in range(n - level + 1):\n",
    "                for split in range(start + 1, start + level):\n",
    "                    end = start + level\n",
    "                    self.fill_non_terminal_cell(start, split, end)\n",
    "        # ^^^^^^^^^^^^^^^^^^^^^^^^^^^^^^^^^^^^^^^^^^^^^^^^\n",
    "        \n",
    "        # return whether the sequence is valid (i.e. whether the start symbol is in the top cell)\n",
    "        return self.start_symbol in self.chart[0, n]\n",
    "    \n",
    "    def fill_terminal_cell(self, start, symbol):\n",
    "        # go through all terminal rules to fill cell\n",
    "        # vvvvvvvvvvvvvvvvvvvvvvvvvvvvvvvvvvvv\n",
    "        # FILL HERE\n",
    "        for x, y in self.terminal_rules:\n",
    "            # if right hand side (terminal) matches, add left hand side (non-terminal) to cell\n",
    "            if y == symbol:\n",
    "                self.chart[start, start + 1].add(x)\n",
    "        # ^^^^^^^^^^^^^^^^^^^^^^^^^^^^^^^^^^^^^^\n",
    "    \n",
    "    def fill_non_terminal_cell(self, start, split, end):\n",
    "        # go through all non-terminal rules to fill cell\n",
    "        # vvvvvvvvvvvvvvvvvvvvvvvvvvvvvvvvvvvv\n",
    "        # FILL HERE\n",
    "        for x1, x2, x3 in self.non_terminal_rules:\n",
    "            # if symbols on right hand side are in the corresponding cells,\n",
    "            # add left hand side to parent cell\n",
    "            if x2 in self.chart[start, split] and x3 in self.chart[split, end]:\n",
    "                self.chart[start, end].add(x1)\n",
    "        # ^^^^^^^^^^^^^^^^^^^^^^^^^^^^^^^^^^^^^"
   ]
  },
  {
   "cell_type": "markdown",
   "id": "dce1a6ca0e5f7e1a",
   "metadata": {},
   "source": [
    "Test your implementation using the minimal example from the lecture."
   ]
  },
  {
   "cell_type": "code",
   "execution_count": 9,
   "id": "c0a8f93cd7cfe9e1",
   "metadata": {
    "ExecuteTime": {
     "end_time": "2024-03-07T19:44:21.872703404Z",
     "start_time": "2024-03-07T19:44:21.825929207Z"
    }
   },
   "outputs": [
    {
     "name": "stdout",
     "output_type": "stream",
     "text": [
      "non-terminal rules: {('A', 'A', 'A'), ('A', 'B', 'A')}\n",
      "terminal rules: {('A', 'a'), ('B', 'b')}\n",
      "start symbol: A\n",
      "non-terminal symbols: {'B', 'A'}\n",
      "terminal symbols: {'a', 'b'}\n",
      "valid sequence: True\n",
      "              ╱╲              \n",
      "             ╱  ╲             \n",
      "            ╱ {A}╲            \n",
      "           ╱╲    ╱╲           \n",
      "          ╱  ╲  ╱  ╲          \n",
      "         ╱   ∅╲╱ {A}╲         \n",
      "        ╱╲    ╱╲    ╱╲        \n",
      "       ╱  ╲  ╱  ╲  ╱  ╲       \n",
      "      ╱   ∅╲╱   ∅╲╱ {A}╲      \n",
      "     ╱╲    ╱╲    ╱╲    ╱╲     \n",
      "    ╱  ╲  ╱  ╲  ╱  ╲  ╱  ╲    \n",
      "   ╱ {A}╲╱   ∅╲╱   ∅╲╱ {A}╲   \n",
      "  ╱╲    ╱╲    ╱╲    ╱╲    ╱╲  \n",
      " ╱  ╲  ╱  ╲  ╱  ╲  ╱  ╲  ╱  ╲ \n",
      "╱ {A}╲╱ {A}╲╱ {B}╲╱ {B}╲╱ {A}╲\n"
     ]
    }
   ],
   "source": [
    "cfg = CFG(\n",
    "    non_terminal_rules=[('A', 'A', 'A'), ('A', 'B', 'A')],\n",
    "    terminal_rules=[('A', 'a'), ('B', 'b')],\n",
    "    start_symbol='A'\n",
    ")\n",
    "print(\"non-terminal rules:\", cfg.non_terminal_rules)\n",
    "print(\"terminal rules:\", cfg.terminal_rules)\n",
    "print(\"start symbol:\", cfg.start_symbol)\n",
    "print(\"non-terminal symbols:\", cfg.non_terminal_symbols)\n",
    "print(\"terminal symbols:\", cfg.terminal_symbols)\n",
    "\n",
    "print(\"valid sequence:\", cfg.parse(\"aabba\"))\n",
    "print(cfg.chart.pretty())"
   ]
  },
  {
   "cell_type": "markdown",
   "id": "fd02f09e707ec231",
   "metadata": {},
   "source": [
    "### Getting Parse Trees"
   ]
  },
  {
   "cell_type": "markdown",
   "id": "f8683c47b038b362",
   "metadata": {},
   "source": [
    "We can now extend our implementation to also remember splitting points, so we can later reconstruct all possible parse trees.\n",
    "\n",
    "**Exercise:** Override the ``fill_terminal_cell`` and ``fill_non_terminal_cell`` functions to remember possible splitting points for each symbol.\n",
    "\n",
    "*Hint:* You can call ``chart[start, end][x]`` to add symbol ``x`` to a cell but leave the set of splitting points empty (e.g. for level 1 at the bottom of the chart).\n",
    "\n",
    "**Exercise (HARD):** Implement a ``get_trees`` method that uses the stored splitting points to compute all possible parse trees.\n",
    "\n",
    "*Hints:*\n",
    "- If two trees have the same shape but different symbols in their inner nodes, they correspond to different parse trees.\n",
    "- You can represent a tree with a ``SetChart`` that only contains the symbols that appear in the tree.\n",
    "- Start from the top and construct trees recursively (for any possible split, any combination of a right sub-tree and a left sub-tree is a valid tree)."
   ]
  },
  {
   "cell_type": "code",
   "execution_count": 10,
   "id": "c3c2768a6e8348b8",
   "metadata": {
    "ExecuteTime": {
     "end_time": "2024-03-07T19:53:09.280407358Z",
     "start_time": "2024-03-07T19:53:09.223342552Z"
    }
   },
   "outputs": [],
   "source": [
    "class TreeCFG(CFG):\n",
    "    def init_chart(self, n):\n",
    "        # chart stores dicts from symbols to sets of possible splitting points\n",
    "        self.chart = DictSetChart(n)\n",
    "    \n",
    "    def fill_terminal_cell(self, start, symbol):\n",
    "        # vvvvvvvvvvvvvvvvvvvvvvvvvvvvvvvvvvvv\n",
    "        # FILL HERE\n",
    "        for x, y in self.terminal_rules:\n",
    "            if y == symbol:\n",
    "                self.chart[start, start + 1][x]\n",
    "        # ^^^^^^^^^^^^^^^^^^^^^^^^^^^^^^^^^^^^^^\n",
    "    \n",
    "    def fill_non_terminal_cell(self, start, split, end):\n",
    "        # vvvvvvvvvvvvvvvvvvvvvvvvvvvvvvvvvvvv\n",
    "        # FILL HERE\n",
    "        for x1, x2, x3 in self.non_terminal_rules:\n",
    "            if x2 in self.chart[start, split] and x3 in self.chart[split, end]:\n",
    "                self.chart[start, end][x1].add((x2, x3, split))\n",
    "        # ^^^^^^^^^^^^^^^^^^^^^^^^^^^^^^^^^^^^^\n",
    "    \n",
    "    def get_trees(self, symbol=None, start=None, end=None, chart=None, draw_tree=True):\n",
    "        trees = []  # list of all possible trees represented in charts\n",
    "        n = self.chart.n\n",
    "        if (symbol, start, end, chart) == (None, None, None, None):\n",
    "            (symbol, start, end, chart) = (self.start_symbol, 0, n, SetChart(n, empty=\"\", left=\"\", right=\"\"))\n",
    "        \n",
    "        # handle terminal transitions\n",
    "        # vvvvvvvvvvvvvvvvvvvvvvvvvvvvvvvvvvvvvvvvvvvvvvvvvvvvvvvvvvvvvvv\n",
    "        # FILL HERE\n",
    "        if end == start + 1:\n",
    "            # make a copy and fill in current symbol\n",
    "            chart_copy = chart.copy()\n",
    "            chart_copy[start, end].add(symbol)\n",
    "            trees += [chart_copy]\n",
    "        # ^^^^^^^^^^^^^^^^^^^^^^^^^^^^^^^^^^^^^^^^^^^^^^^^^^^^^^^^^^^^^^^\n",
    "        \n",
    "        # go through all possible splitting points and the associated symbols\n",
    "        # vvvvvvvvvvvvvvvvvvvvvvvvvvvvvvvvvvvvvvvvvvvvvvvvvvvvvvvvvvvvvvv\n",
    "        # FILL HERE\n",
    "        else:\n",
    "            for left_child, right_child, split in self.chart[start, end][symbol]:\n",
    "                # make a copy and fill in current symbol\n",
    "                chart_copy = chart.copy()\n",
    "                chart_copy[start, end].add(symbol)\n",
    "                # fill in tree branches (only to make printing more pretty) \n",
    "                if draw_tree:\n",
    "                    for tree_end in range(split + 1, end):\n",
    "                        chart_copy[start, tree_end].add('╱')\n",
    "                    for tree_start in range(start + 1, split):\n",
    "                        chart_copy[tree_start, end].add('╲')\n",
    "                # get sub-trees from left child (start from prefilled chart)\n",
    "                left_trees = self.get_trees(symbol=left_child, start=start, end=split, chart=chart_copy, draw_tree=draw_tree)\n",
    "                # for all possible left trees get sub-trees from right child\n",
    "                for new_tree in left_trees:\n",
    "                    # the left sub-tree is already filled in; now add the possible sub-trees from right child \n",
    "                    full_trees = self.get_trees(symbol=right_child, start=split, end=end, chart=new_tree, draw_tree=draw_tree)\n",
    "                    # each combination is a valid (sub-)tree for the parent\n",
    "                    trees += full_trees\n",
    "        # ^^^^^^^^^^^^^^^^^^^^^^^^^^^^^^^^^^^^^^^^^^^^^^^^^^^^^^^^^^^^^^^\n",
    "        return trees                "
   ]
  },
  {
   "cell_type": "markdown",
   "id": "694f454a5cbb6164",
   "metadata": {},
   "source": [
    "Test your implementation again on the (slightly extended) minimal example."
   ]
  },
  {
   "cell_type": "code",
   "execution_count": 11,
   "id": "5c9e7b3f676b0eb8",
   "metadata": {
    "ExecuteTime": {
     "end_time": "2024-03-07T19:53:10.838572787Z",
     "start_time": "2024-03-07T19:53:10.826151522Z"
    }
   },
   "outputs": [
    {
     "name": "stdout",
     "output_type": "stream",
     "text": [
      "valid sequence: True\n",
      "                                                                                                                                                                                                                                               ╱╲                                                                                                                                                                                                                                               \n",
      "                                                                                                                                                                                                                                              ╱  ╲                                                                                                                                                                                                                                              \n",
      "                                                                                                                                                                                                                                             ╱    ╲                                                                                                                                                                                                                                             \n",
      "                                                                                                                                                                                                                                            ╱      ╲                                                                                                                                                                                                                                            \n",
      "                                                                                                                                                                                                                                           ╱        ╲                                                                                                                                                                                                                                           \n",
      "                                                                                                                                                                                                                                          ╱          ╲                                                                                                                                                                                                                                          \n",
      "                                                                                                                                                                                                                                         ╱            ╲                                                                                                                                                                                                                                         \n",
      "                                                                                                                                                                                                                                        ╱              ╲                                                                                                                                                                                                                                        \n",
      "                                                                                                                                                                                                                                       ╱                ╲                                                                                                                                                                                                                                       \n",
      "                                                                                                                                                                                                                                      ╱                  ╲                                                                                                                                                                                                                                      \n",
      "                                                                                                                                                                                                                                     ╱                    ╲                                                                                                                                                                                                                                     \n",
      "                                                                                                                                                                                                                                    ╱                      ╲                                                                                                                                                                                                                                    \n",
      "                                                                                                                                                                                                                                   ╱                        ╲                                                                                                                                                                                                                                   \n",
      "                                                                                                                                                                                                                                  ╱                          ╲                                                                                                                                                                                                                                  \n",
      "                                                                                                                                                                                                                                 ╱                            ╲                                                                                                                                                                                                                                 \n",
      "                                                                                                                                                                                                                                ╱                              ╲                                                                                                                                                                                                                                \n",
      "                                                                                                                                                                                                                               ╱                                ╲                                                                                                                                                                                                                               \n",
      "                                                                                                                                                                                                                              ╱                                  ╲                                                                                                                                                                                                                              \n",
      "                                                                                                                                                                                                                             ╱                                    ╲                                                                                                                                                                                                                             \n",
      "                                                                                                                                                                                                                            ╱                                      ╲                                                                                                                                                                                                                            \n",
      "                                                                                                                                                                                                                           ╱                                        ╲                                                                                                                                                                                                                           \n",
      "                                                                                                                                                                                                                          ╱                                          ╲                                                                                                                                                                                                                          \n",
      "                                                                                                                                                                                                                         ╱                                            ╲                                                                                                                                                                                                                         \n",
      "                                                                                                                                                                                                                        ╱                                              ╲                                                                                                                                                                                                                        \n",
      "                                                                                                                                                                                                                       ╱                                                ╲                                                                                                                                                                                                                       \n",
      "                                                                                                                                                                                                                      ╱                                                  ╲                                                                                                                                                                                                                      \n",
      "                                                                                                                                                                                                                     ╱                                                    ╲                                                                                                                                                                                                                     \n",
      "                                                                                                                                                                                                                    ╱                                                      ╲                                                                                                                                                                                                                    \n",
      "                                                                                                                                                                                                                   ╱                                                        ╲                                                                                                                                                                                                                   \n",
      "                                                                                                                                                                                                                  ╱                                                          ╲                                                                                                                                                                                                                  \n",
      "                                                                                                                                                                                                                 ╱                                                            ╲                                                                                                                                                                                                                 \n",
      "                                                                                                                                                                                                                ╱                                                              ╲                                                                                                                                                                                                                \n",
      "                                                                                                                                                                                                               ╱                                                                ╲                                                                                                                                                                                                               \n",
      "                                                                                                                                                                                                              ╱                                                                  ╲                                                                                                                                                                                                              \n",
      "                                                                                                                                                                                                             ╱                                                                    ╲                                                                                                                                                                                                             \n",
      "                                                                                                                                                                                                            ╱                                                                      ╲                                                                                                                                                                                                            \n",
      "                                                                                                                                                                                                           ╱                                                                        ╲                                                                                                                                                                                                           \n",
      "                                                                                                                                                                                                          ╱                                                                          ╲                                                                                                                                                                                                          \n",
      "                                                                                                                                                                                                         ╱                                                                            ╲                                                                                                                                                                                                         \n",
      "                                                                                                                                                                                                        ╱                                                                              ╲                                                                                                                                                                                                        \n",
      "                                                                                                                                                                                                       ╱                                                                                ╲                                                                                                                                                                                                       \n",
      "                                                                                                                                                                                                      ╱                                                                                  ╲                                                                                                                                                                                                      \n",
      "                                                                                                                                                                                                     ╱                                                                                    ╲                                                                                                                                                                                                     \n",
      "                                                                                                                                                                                                    ╱                                                                                      ╲                                                                                                                                                                                                    \n",
      "                                                                                                                                                                                                   ╱                                                                                        ╲                                                                                                                                                                                                   \n",
      "                                                                                                                                                                                                  ╱                                                                                          ╲                                                                                                                                                                                                  \n",
      "                                                                                                                                                                                                 ╱                                                                                            ╲                                                                                                                                                                                                 \n",
      "                                                                                                                                                                                                ╱ {C:{('A', 'A', 1),('A', 'A', 2),('C', 'C', 2)},A:{('A', 'A', 1),('A', 'A', 2),('C', 'C', 2)}}╲                                                                                                                                                                                                \n",
      "                                                                                                                                                                                               ╱╲                                                                                              ╱╲                                                                                                                                                                                               \n",
      "                                                                                                                                                                                              ╱  ╲                                                                                            ╱  ╲                                                                                                                                                                                              \n",
      "                                                                                                                                                                                             ╱    ╲                                                                                          ╱    ╲                                                                                                                                                                                             \n",
      "                                                                                                                                                                                            ╱      ╲                                                                                        ╱      ╲                                                                                                                                                                                            \n",
      "                                                                                                                                                                                           ╱        ╲                                                                                      ╱        ╲                                                                                                                                                                                           \n",
      "                                                                                                                                                                                          ╱          ╲                                                                                    ╱          ╲                                                                                                                                                                                          \n",
      "                                                                                                                                                                                         ╱            ╲                                                                                  ╱            ╲                                                                                                                                                                                         \n",
      "                                                                                                                                                                                        ╱              ╲                                                                                ╱              ╲                                                                                                                                                                                        \n",
      "                                                                                                                                                                                       ╱                ╲                                                                              ╱                ╲                                                                                                                                                                                       \n",
      "                                                                                                                                                                                      ╱                  ╲                                                                            ╱                  ╲                                                                                                                                                                                      \n",
      "                                                                                                                                                                                     ╱                    ╲                                                                          ╱                    ╲                                                                                                                                                                                     \n",
      "                                                                                                                                                                                    ╱                      ╲                                                                        ╱                      ╲                                                                                                                                                                                    \n",
      "                                                                                                                                                                                   ╱                        ╲                                                                      ╱                        ╲                                                                                                                                                                                   \n",
      "                                                                                                                                                                                  ╱                          ╲                                                                    ╱                          ╲                                                                                                                                                                                  \n",
      "                                                                                                                                                                                 ╱                            ╲                                                                  ╱                            ╲                                                                                                                                                                                 \n",
      "                                                                                                                                                                                ╱                              ╲                                                                ╱                              ╲                                                                                                                                                                                \n",
      "                                                                                                                                                                               ╱                                ╲                                                              ╱                                ╲                                                                                                                                                                               \n",
      "                                                                                                                                                                              ╱                                  ╲                                                            ╱                                  ╲                                                                                                                                                                              \n",
      "                                                                                                                                                                             ╱                                    ╲                                                          ╱                                    ╲                                                                                                                                                                             \n",
      "                                                                                                                                                                            ╱                                      ╲                                                        ╱                                      ╲                                                                                                                                                                            \n",
      "                                                                                                                                                                           ╱                                        ╲                                                      ╱                                        ╲                                                                                                                                                                           \n",
      "                                                                                                                                                                          ╱                                          ╲                                                    ╱                                          ╲                                                                                                                                                                          \n",
      "                                                                                                                                                                         ╱                                            ╲                                                  ╱                                            ╲                                                                                                                                                                         \n",
      "                                                                                                                                                                        ╱                                              ╲                                                ╱                                              ╲                                                                                                                                                                        \n",
      "                                                                                                                                                                       ╱                                                ╲                                              ╱                                                ╲                                                                                                                                                                       \n",
      "                                                                                                                                                                      ╱                                                  ╲                                            ╱                                                  ╲                                                                                                                                                                      \n",
      "                                                                                                                                                                     ╱                                                    ╲                                          ╱                                                    ╲                                                                                                                                                                     \n",
      "                                                                                                                                                                    ╱                                                      ╲                                        ╱                                                      ╲                                                                                                                                                                    \n",
      "                                                                                                                                                                   ╱                                                        ╲                                      ╱                                                        ╲                                                                                                                                                                   \n",
      "                                                                                                                                                                  ╱                                                          ╲                                    ╱                                                          ╲                                                                                                                                                                  \n",
      "                                                                                                                                                                 ╱                                                            ╲                                  ╱                                                            ╲                                                                                                                                                                 \n",
      "                                                                                                                                                                ╱                                                              ╲                                ╱                                                              ╲                                                                                                                                                                \n",
      "                                                                                                                                                               ╱                                                                ╲                              ╱                                                                ╲                                                                                                                                                               \n",
      "                                                                                                                                                              ╱                                                                  ╲                            ╱                                                                  ╲                                                                                                                                                              \n",
      "                                                                                                                                                             ╱                                                                    ╲                          ╱                                                                    ╲                                                                                                                                                             \n",
      "                                                                                                                                                            ╱                                                                      ╲                        ╱                                                                      ╲                                                                                                                                                            \n",
      "                                                                                                                                                           ╱                                                                        ╲                      ╱                                                                        ╲                                                                                                                                                           \n",
      "                                                                                                                                                          ╱                                                                          ╲                    ╱                                                                          ╲                                                                                                                                                          \n",
      "                                                                                                                                                         ╱                                                                            ╲                  ╱                                                                            ╲                                                                                                                                                         \n",
      "                                                                                                                                                        ╱                                                                              ╲                ╱                                                                              ╲                                                                                                                                                        \n",
      "                                                                                                                                                       ╱                                                                                ╲              ╱                                                                                ╲                                                                                                                                                       \n",
      "                                                                                                                                                      ╱                                                                                  ╲            ╱                                                                                  ╲                                                                                                                                                      \n",
      "                                                                                                                                                     ╱                                                                                    ╲          ╱                                                                                    ╲                                                                                                                                                     \n",
      "                                                                                                                                                    ╱                                                                                      ╲        ╱                                                                                      ╲                                                                                                                                                    \n",
      "                                                                                                                                                   ╱                                                                                        ╲      ╱                                                                                        ╲                                                                                                                                                   \n",
      "                                                                                                                                                  ╱                                                                                          ╲    ╱                                                                                          ╲                                                                                                                                                  \n",
      "                                                                                                                                                 ╱                                                                                            ╲  ╱                                                                                            ╲                                                                                                                                                 \n",
      "                                                                                                                                                ╱                                                                                            {}╲╱                                                         {C:{('A', 'A', 2)},A:{('A', 'A', 2)}}╲                                                                                                                                                \n",
      "                                                                                                                                               ╱╲                                                                                              ╱╲                                                                                              ╱╲                                                                                                                                               \n",
      "                                                                                                                                              ╱  ╲                                                                                            ╱  ╲                                                                                            ╱  ╲                                                                                                                                              \n",
      "                                                                                                                                             ╱    ╲                                                                                          ╱    ╲                                                                                          ╱    ╲                                                                                                                                             \n",
      "                                                                                                                                            ╱      ╲                                                                                        ╱      ╲                                                                                        ╱      ╲                                                                                                                                            \n",
      "                                                                                                                                           ╱        ╲                                                                                      ╱        ╲                                                                                      ╱        ╲                                                                                                                                           \n",
      "                                                                                                                                          ╱          ╲                                                                                    ╱          ╲                                                                                    ╱          ╲                                                                                                                                          \n",
      "                                                                                                                                         ╱            ╲                                                                                  ╱            ╲                                                                                  ╱            ╲                                                                                                                                         \n",
      "                                                                                                                                        ╱              ╲                                                                                ╱              ╲                                                                                ╱              ╲                                                                                                                                        \n",
      "                                                                                                                                       ╱                ╲                                                                              ╱                ╲                                                                              ╱                ╲                                                                                                                                       \n",
      "                                                                                                                                      ╱                  ╲                                                                            ╱                  ╲                                                                            ╱                  ╲                                                                                                                                      \n",
      "                                                                                                                                     ╱                    ╲                                                                          ╱                    ╲                                                                          ╱                    ╲                                                                                                                                     \n",
      "                                                                                                                                    ╱                      ╲                                                                        ╱                      ╲                                                                        ╱                      ╲                                                                                                                                    \n",
      "                                                                                                                                   ╱                        ╲                                                                      ╱                        ╲                                                                      ╱                        ╲                                                                                                                                   \n",
      "                                                                                                                                  ╱                          ╲                                                                    ╱                          ╲                                                                    ╱                          ╲                                                                                                                                  \n",
      "                                                                                                                                 ╱                            ╲                                                                  ╱                            ╲                                                                  ╱                            ╲                                                                                                                                 \n",
      "                                                                                                                                ╱                              ╲                                                                ╱                              ╲                                                                ╱                              ╲                                                                                                                                \n",
      "                                                                                                                               ╱                                ╲                                                              ╱                                ╲                                                              ╱                                ╲                                                                                                                               \n",
      "                                                                                                                              ╱                                  ╲                                                            ╱                                  ╲                                                            ╱                                  ╲                                                                                                                              \n",
      "                                                                                                                             ╱                                    ╲                                                          ╱                                    ╲                                                          ╱                                    ╲                                                                                                                             \n",
      "                                                                                                                            ╱                                      ╲                                                        ╱                                      ╲                                                        ╱                                      ╲                                                                                                                            \n",
      "                                                                                                                           ╱                                        ╲                                                      ╱                                        ╲                                                      ╱                                        ╲                                                                                                                           \n",
      "                                                                                                                          ╱                                          ╲                                                    ╱                                          ╲                                                    ╱                                          ╲                                                                                                                          \n",
      "                                                                                                                         ╱                                            ╲                                                  ╱                                            ╲                                                  ╱                                            ╲                                                                                                                         \n",
      "                                                                                                                        ╱                                              ╲                                                ╱                                              ╲                                                ╱                                              ╲                                                                                                                        \n",
      "                                                                                                                       ╱                                                ╲                                              ╱                                                ╲                                              ╱                                                ╲                                                                                                                       \n",
      "                                                                                                                      ╱                                                  ╲                                            ╱                                                  ╲                                            ╱                                                  ╲                                                                                                                      \n",
      "                                                                                                                     ╱                                                    ╲                                          ╱                                                    ╲                                          ╱                                                    ╲                                                                                                                     \n",
      "                                                                                                                    ╱                                                      ╲                                        ╱                                                      ╲                                        ╱                                                      ╲                                                                                                                    \n",
      "                                                                                                                   ╱                                                        ╲                                      ╱                                                        ╲                                      ╱                                                        ╲                                                                                                                   \n",
      "                                                                                                                  ╱                                                          ╲                                    ╱                                                          ╲                                    ╱                                                          ╲                                                                                                                  \n",
      "                                                                                                                 ╱                                                            ╲                                  ╱                                                            ╲                                  ╱                                                            ╲                                                                                                                 \n",
      "                                                                                                                ╱                                                              ╲                                ╱                                                              ╲                                ╱                                                              ╲                                                                                                                \n",
      "                                                                                                               ╱                                                                ╲                              ╱                                                                ╲                              ╱                                                                ╲                                                                                                               \n",
      "                                                                                                              ╱                                                                  ╲                            ╱                                                                  ╲                            ╱                                                                  ╲                                                                                                              \n",
      "                                                                                                             ╱                                                                    ╲                          ╱                                                                    ╲                          ╱                                                                    ╲                                                                                                             \n",
      "                                                                                                            ╱                                                                      ╲                        ╱                                                                      ╲                        ╱                                                                      ╲                                                                                                            \n",
      "                                                                                                           ╱                                                                        ╲                      ╱                                                                        ╲                      ╱                                                                        ╲                                                                                                           \n",
      "                                                                                                          ╱                                                                          ╲                    ╱                                                                          ╲                    ╱                                                                          ╲                                                                                                          \n",
      "                                                                                                         ╱                                                                            ╲                  ╱                                                                            ╲                  ╱                                                                            ╲                                                                                                         \n",
      "                                                                                                        ╱                                                                              ╲                ╱                                                                              ╲                ╱                                                                              ╲                                                                                                        \n",
      "                                                                                                       ╱                                                                                ╲              ╱                                                                                ╲              ╱                                                                                ╲                                                                                                       \n",
      "                                                                                                      ╱                                                                                  ╲            ╱                                                                                  ╲            ╱                                                                                  ╲                                                                                                      \n",
      "                                                                                                     ╱                                                                                    ╲          ╱                                                                                    ╲          ╱                                                                                    ╲                                                                                                     \n",
      "                                                                                                    ╱                                                                                      ╲        ╱                                                                                      ╲        ╱                                                                                      ╲                                                                                                    \n",
      "                                                                                                   ╱                                                                                        ╲      ╱                                                                                        ╲      ╱                                                                                        ╲                                                                                                   \n",
      "                                                                                                  ╱                                                                                          ╲    ╱                                                                                          ╲    ╱                                                                                          ╲                                                                                                  \n",
      "                                                                                                 ╱                                                                                            ╲  ╱                                                                                            ╲  ╱                                                                                            ╲                                                                                                 \n",
      "                                                                                                ╱                                                                                            {}╲╱                                                                                            {}╲╱                                                         {A:{('B', 'A', 3)},C:{('B', 'A', 3)}}╲                                                                                                \n",
      "                                                                                               ╱╲                                                                                              ╱╲                                                                                              ╱╲                                                                                              ╱╲                                                                                               \n",
      "                                                                                              ╱  ╲                                                                                            ╱  ╲                                                                                            ╱  ╲                                                                                            ╱  ╲                                                                                              \n",
      "                                                                                             ╱    ╲                                                                                          ╱    ╲                                                                                          ╱    ╲                                                                                          ╱    ╲                                                                                             \n",
      "                                                                                            ╱      ╲                                                                                        ╱      ╲                                                                                        ╱      ╲                                                                                        ╱      ╲                                                                                            \n",
      "                                                                                           ╱        ╲                                                                                      ╱        ╲                                                                                      ╱        ╲                                                                                      ╱        ╲                                                                                           \n",
      "                                                                                          ╱          ╲                                                                                    ╱          ╲                                                                                    ╱          ╲                                                                                    ╱          ╲                                                                                          \n",
      "                                                                                         ╱            ╲                                                                                  ╱            ╲                                                                                  ╱            ╲                                                                                  ╱            ╲                                                                                         \n",
      "                                                                                        ╱              ╲                                                                                ╱              ╲                                                                                ╱              ╲                                                                                ╱              ╲                                                                                        \n",
      "                                                                                       ╱                ╲                                                                              ╱                ╲                                                                              ╱                ╲                                                                              ╱                ╲                                                                                       \n",
      "                                                                                      ╱                  ╲                                                                            ╱                  ╲                                                                            ╱                  ╲                                                                            ╱                  ╲                                                                                      \n",
      "                                                                                     ╱                    ╲                                                                          ╱                    ╲                                                                          ╱                    ╲                                                                          ╱                    ╲                                                                                     \n",
      "                                                                                    ╱                      ╲                                                                        ╱                      ╲                                                                        ╱                      ╲                                                                        ╱                      ╲                                                                                    \n",
      "                                                                                   ╱                        ╲                                                                      ╱                        ╲                                                                      ╱                        ╲                                                                      ╱                        ╲                                                                                   \n",
      "                                                                                  ╱                          ╲                                                                    ╱                          ╲                                                                    ╱                          ╲                                                                    ╱                          ╲                                                                                  \n",
      "                                                                                 ╱                            ╲                                                                  ╱                            ╲                                                                  ╱                            ╲                                                                  ╱                            ╲                                                                                 \n",
      "                                                                                ╱                              ╲                                                                ╱                              ╲                                                                ╱                              ╲                                                                ╱                              ╲                                                                                \n",
      "                                                                               ╱                                ╲                                                              ╱                                ╲                                                              ╱                                ╲                                                              ╱                                ╲                                                                               \n",
      "                                                                              ╱                                  ╲                                                            ╱                                  ╲                                                            ╱                                  ╲                                                            ╱                                  ╲                                                                              \n",
      "                                                                             ╱                                    ╲                                                          ╱                                    ╲                                                          ╱                                    ╲                                                          ╱                                    ╲                                                                             \n",
      "                                                                            ╱                                      ╲                                                        ╱                                      ╲                                                        ╱                                      ╲                                                        ╱                                      ╲                                                                            \n",
      "                                                                           ╱                                        ╲                                                      ╱                                        ╲                                                      ╱                                        ╲                                                      ╱                                        ╲                                                                           \n",
      "                                                                          ╱                                          ╲                                                    ╱                                          ╲                                                    ╱                                          ╲                                                    ╱                                          ╲                                                                          \n",
      "                                                                         ╱                                            ╲                                                  ╱                                            ╲                                                  ╱                                            ╲                                                  ╱                                            ╲                                                                         \n",
      "                                                                        ╱                                              ╲                                                ╱                                              ╲                                                ╱                                              ╲                                                ╱                                              ╲                                                                        \n",
      "                                                                       ╱                                                ╲                                              ╱                                                ╲                                              ╱                                                ╲                                              ╱                                                ╲                                                                       \n",
      "                                                                      ╱                                                  ╲                                            ╱                                                  ╲                                            ╱                                                  ╲                                            ╱                                                  ╲                                                                      \n",
      "                                                                     ╱                                                    ╲                                          ╱                                                    ╲                                          ╱                                                    ╲                                          ╱                                                    ╲                                                                     \n",
      "                                                                    ╱                                                      ╲                                        ╱                                                      ╲                                        ╱                                                      ╲                                        ╱                                                      ╲                                                                    \n",
      "                                                                   ╱                                                        ╲                                      ╱                                                        ╲                                      ╱                                                        ╲                                      ╱                                                        ╲                                                                   \n",
      "                                                                  ╱                                                          ╲                                    ╱                                                          ╲                                    ╱                                                          ╲                                    ╱                                                          ╲                                                                  \n",
      "                                                                 ╱                                                            ╲                                  ╱                                                            ╲                                  ╱                                                            ╲                                  ╱                                                            ╲                                                                 \n",
      "                                                                ╱                                                              ╲                                ╱                                                              ╲                                ╱                                                              ╲                                ╱                                                              ╲                                                                \n",
      "                                                               ╱                                                                ╲                              ╱                                                                ╲                              ╱                                                                ╲                              ╱                                                                ╲                                                               \n",
      "                                                              ╱                                                                  ╲                            ╱                                                                  ╲                            ╱                                                                  ╲                            ╱                                                                  ╲                                                              \n",
      "                                                             ╱                                                                    ╲                          ╱                                                                    ╲                          ╱                                                                    ╲                          ╱                                                                    ╲                                                             \n",
      "                                                            ╱                                                                      ╲                        ╱                                                                      ╲                        ╱                                                                      ╲                        ╱                                                                      ╲                                                            \n",
      "                                                           ╱                                                                        ╲                      ╱                                                                        ╲                      ╱                                                                        ╲                      ╱                                                                        ╲                                                           \n",
      "                                                          ╱                                                                          ╲                    ╱                                                                          ╲                    ╱                                                                          ╲                    ╱                                                                          ╲                                                          \n",
      "                                                         ╱                                                                            ╲                  ╱                                                                            ╲                  ╱                                                                            ╲                  ╱                                                                            ╲                                                         \n",
      "                                                        ╱                                                                              ╲                ╱                                                                              ╲                ╱                                                                              ╲                ╱                                                                              ╲                                                        \n",
      "                                                       ╱                                                                                ╲              ╱                                                                                ╲              ╱                                                                                ╲              ╱                                                                                ╲                                                       \n",
      "                                                      ╱                                                                                  ╲            ╱                                                                                  ╲            ╱                                                                                  ╲            ╱                                                                                  ╲                                                      \n",
      "                                                     ╱                                                                                    ╲          ╱                                                                                    ╲          ╱                                                                                    ╲          ╱                                                                                    ╲                                                     \n",
      "                                                    ╱                                                                                      ╲        ╱                                                                                      ╲        ╱                                                                                      ╲        ╱                                                                                      ╲                                                    \n",
      "                                                   ╱                                                                                        ╲      ╱                                                                                        ╲      ╱                                                                                        ╲      ╱                                                                                        ╲                                                   \n",
      "                                                  ╱                                                                                          ╲    ╱                                                                                          ╲    ╱                                                                                          ╲    ╱                                                                                          ╲                                                  \n",
      "                                                 ╱                                                                                            ╲  ╱                                                                                            ╲  ╱                                                                                            ╲  ╱                                                                                            ╲                                                 \n",
      "                                                ╱                                                         {C:{('A', 'A', 1)},A:{('A', 'A', 1)}}╲╱                                                                                            {}╲╱                                                                                            {}╲╱                                                         {A:{('B', 'A', 4)},C:{('B', 'A', 4)}}╲                                                \n",
      "                                               ╱╲                                                                                              ╱╲                                                                                              ╱╲                                                                                              ╱╲                                                                                              ╱╲                                               \n",
      "                                              ╱  ╲                                                                                            ╱  ╲                                                                                            ╱  ╲                                                                                            ╱  ╲                                                                                            ╱  ╲                                              \n",
      "                                             ╱    ╲                                                                                          ╱    ╲                                                                                          ╱    ╲                                                                                          ╱    ╲                                                                                          ╱    ╲                                             \n",
      "                                            ╱      ╲                                                                                        ╱      ╲                                                                                        ╱      ╲                                                                                        ╱      ╲                                                                                        ╱      ╲                                            \n",
      "                                           ╱        ╲                                                                                      ╱        ╲                                                                                      ╱        ╲                                                                                      ╱        ╲                                                                                      ╱        ╲                                           \n",
      "                                          ╱          ╲                                                                                    ╱          ╲                                                                                    ╱          ╲                                                                                    ╱          ╲                                                                                    ╱          ╲                                          \n",
      "                                         ╱            ╲                                                                                  ╱            ╲                                                                                  ╱            ╲                                                                                  ╱            ╲                                                                                  ╱            ╲                                         \n",
      "                                        ╱              ╲                                                                                ╱              ╲                                                                                ╱              ╲                                                                                ╱              ╲                                                                                ╱              ╲                                        \n",
      "                                       ╱                ╲                                                                              ╱                ╲                                                                              ╱                ╲                                                                              ╱                ╲                                                                              ╱                ╲                                       \n",
      "                                      ╱                  ╲                                                                            ╱                  ╲                                                                            ╱                  ╲                                                                            ╱                  ╲                                                                            ╱                  ╲                                      \n",
      "                                     ╱                    ╲                                                                          ╱                    ╲                                                                          ╱                    ╲                                                                          ╱                    ╲                                                                          ╱                    ╲                                     \n",
      "                                    ╱                      ╲                                                                        ╱                      ╲                                                                        ╱                      ╲                                                                        ╱                      ╲                                                                        ╱                      ╲                                    \n",
      "                                   ╱                        ╲                                                                      ╱                        ╲                                                                      ╱                        ╲                                                                      ╱                        ╲                                                                      ╱                        ╲                                   \n",
      "                                  ╱                          ╲                                                                    ╱                          ╲                                                                    ╱                          ╲                                                                    ╱                          ╲                                                                    ╱                          ╲                                  \n",
      "                                 ╱                            ╲                                                                  ╱                            ╲                                                                  ╱                            ╲                                                                  ╱                            ╲                                                                  ╱                            ╲                                 \n",
      "                                ╱                              ╲                                                                ╱                              ╲                                                                ╱                              ╲                                                                ╱                              ╲                                                                ╱                              ╲                                \n",
      "                               ╱                                ╲                                                              ╱                                ╲                                                              ╱                                ╲                                                              ╱                                ╲                                                              ╱                                ╲                               \n",
      "                              ╱                                  ╲                                                            ╱                                  ╲                                                            ╱                                  ╲                                                            ╱                                  ╲                                                            ╱                                  ╲                              \n",
      "                             ╱                                    ╲                                                          ╱                                    ╲                                                          ╱                                    ╲                                                          ╱                                    ╲                                                          ╱                                    ╲                             \n",
      "                            ╱                                      ╲                                                        ╱                                      ╲                                                        ╱                                      ╲                                                        ╱                                      ╲                                                        ╱                                      ╲                            \n",
      "                           ╱                                        ╲                                                      ╱                                        ╲                                                      ╱                                        ╲                                                      ╱                                        ╲                                                      ╱                                        ╲                           \n",
      "                          ╱                                          ╲                                                    ╱                                          ╲                                                    ╱                                          ╲                                                    ╱                                          ╲                                                    ╱                                          ╲                          \n",
      "                         ╱                                            ╲                                                  ╱                                            ╲                                                  ╱                                            ╲                                                  ╱                                            ╲                                                  ╱                                            ╲                         \n",
      "                        ╱                                              ╲                                                ╱                                              ╲                                                ╱                                              ╲                                                ╱                                              ╲                                                ╱                                              ╲                        \n",
      "                       ╱                                                ╲                                              ╱                                                ╲                                              ╱                                                ╲                                              ╱                                                ╲                                              ╱                                                ╲                       \n",
      "                      ╱                                                  ╲                                            ╱                                                  ╲                                            ╱                                                  ╲                                            ╱                                                  ╲                                            ╱                                                  ╲                      \n",
      "                     ╱                                                    ╲                                          ╱                                                    ╲                                          ╱                                                    ╲                                          ╱                                                    ╲                                          ╱                                                    ╲                     \n",
      "                    ╱                                                      ╲                                        ╱                                                      ╲                                        ╱                                                      ╲                                        ╱                                                      ╲                                        ╱                                                      ╲                    \n",
      "                   ╱                                                        ╲                                      ╱                                                        ╲                                      ╱                                                        ╲                                      ╱                                                        ╲                                      ╱                                                        ╲                   \n",
      "                  ╱                                                          ╲                                    ╱                                                          ╲                                    ╱                                                          ╲                                    ╱                                                          ╲                                    ╱                                                          ╲                  \n",
      "                 ╱                                                            ╲                                  ╱                                                            ╲                                  ╱                                                            ╲                                  ╱                                                            ╲                                  ╱                                                            ╲                 \n",
      "                ╱                                                              ╲                                ╱                                                              ╲                                ╱                                                              ╲                                ╱                                                              ╲                                ╱                                                              ╲                \n",
      "               ╱                                                                ╲                              ╱                                                                ╲                              ╱                                                                ╲                              ╱                                                                ╲                              ╱                                                                ╲               \n",
      "              ╱                                                                  ╲                            ╱                                                                  ╲                            ╱                                                                  ╲                            ╱                                                                  ╲                            ╱                                                                  ╲              \n",
      "             ╱                                                                    ╲                          ╱                                                                    ╲                          ╱                                                                    ╲                          ╱                                                                    ╲                          ╱                                                                    ╲             \n",
      "            ╱                                                                      ╲                        ╱                                                                      ╲                        ╱                                                                      ╲                        ╱                                                                      ╲                        ╱                                                                      ╲            \n",
      "           ╱                                                                        ╲                      ╱                                                                        ╲                      ╱                                                                        ╲                      ╱                                                                        ╲                      ╱                                                                        ╲           \n",
      "          ╱                                                                          ╲                    ╱                                                                          ╲                    ╱                                                                          ╲                    ╱                                                                          ╲                    ╱                                                                          ╲          \n",
      "         ╱                                                                            ╲                  ╱                                                                            ╲                  ╱                                                                            ╲                  ╱                                                                            ╲                  ╱                                                                            ╲         \n",
      "        ╱                                                                              ╲                ╱                                                                              ╲                ╱                                                                              ╲                ╱                                                                              ╲                ╱                                                                              ╲        \n",
      "       ╱                                                                                ╲              ╱                                                                                ╲              ╱                                                                                ╲              ╱                                                                                ╲              ╱                                                                                ╲       \n",
      "      ╱                                                                                  ╲            ╱                                                                                  ╲            ╱                                                                                  ╲            ╱                                                                                  ╲            ╱                                                                                  ╲      \n",
      "     ╱                                                                                    ╲          ╱                                                                                    ╲          ╱                                                                                    ╲          ╱                                                                                    ╲          ╱                                                                                    ╲     \n",
      "    ╱                                                                                      ╲        ╱                                                                                      ╲        ╱                                                                                      ╲        ╱                                                                                      ╲        ╱                                                                                      ╲    \n",
      "   ╱                                                                                        ╲      ╱                                                                                        ╲      ╱                                                                                        ╲      ╱                                                                                        ╲      ╱                                                                                        ╲   \n",
      "  ╱                                                                                          ╲    ╱                                                                                          ╲    ╱                                                                                          ╲    ╱                                                                                          ╲    ╱                                                                                          ╲  \n",
      " ╱                                                                                            ╲  ╱                                                                                            ╲  ╱                                                                                            ╲  ╱                                                                                            ╲  ╱                                                                                            ╲ \n",
      "╱                                                                                         {A:∅}╲╱                                                                                         {A:∅}╲╱                                                                                         {B:∅}╲╱                                                                                         {B:∅}╲╱                                                                                         {A:∅}╲\n"
     ]
    }
   ],
   "source": [
    "cfg = TreeCFG(\n",
    "    non_terminal_rules=[\n",
    "        ('A', 'A', 'A'),\n",
    "        ('C', 'C', 'C'),\n",
    "        ('A', 'C', 'C'),\n",
    "        ('C', 'A', 'A'),\n",
    "        ('A', 'B', 'A'),\n",
    "        ('C', 'B', 'A')\n",
    "    ],\n",
    "    terminal_rules=[\n",
    "        ('A', 'a'),\n",
    "        ('B', 'b'),\n",
    "    ],\n",
    "    start_symbol='A'\n",
    ")\n",
    "\n",
    "print(\"valid sequence:\", cfg.parse(\"aabba\"))\n",
    "print(cfg.chart.pretty())"
   ]
  },
  {
   "cell_type": "code",
   "execution_count": 12,
   "id": "1f1fdef7b576e3ca",
   "metadata": {
    "ExecuteTime": {
     "end_time": "2024-03-07T19:54:04.977537613Z",
     "start_time": "2024-03-07T19:54:04.924886874Z"
    }
   },
   "outputs": [
    {
     "name": "stdout",
     "output_type": "stream",
     "text": [
      "There are 3 possible parse trees:\n",
      "           |           |           \n",
      "     A     |     A     |     A     \n",
      "    ╱ A    |    ╱ ╲    |    ╱ ╲    \n",
      "   ╱ ╱ A   |   ╱   A   |   ╱   C   \n",
      "  ╱ ╱ ╱ A  |  A   ╱ A  |  C   ╱ A  \n",
      " A A B B A | A A B B A | A A B B A \n"
     ]
    }
   ],
   "source": [
    "trees = cfg.get_trees()\n",
    "print(f\"There are {len(trees)} possible parse trees:\")\n",
    "print(cat_pretty(trees, crosses=True, grid_off=True))"
   ]
  },
  {
   "cell_type": "markdown",
   "id": "9de4b6c6dd7abe46",
   "metadata": {},
   "source": [
    "## Working with Data"
   ]
  },
  {
   "cell_type": "markdown",
   "id": "84547ddf816edef5",
   "metadata": {},
   "source": [
    "### Harmonic Annotations"
   ]
  },
  {
   "cell_type": "markdown",
   "id": "97b6417ec515ab45",
   "metadata": {},
   "source": [
    "**[The Annotated Beethoven Corpus (ABC)](https://github.com/DCMLab/ABC)** is a dataset with expert harmonic analyses of all Beethoven string quartets. The harmonic labels contain more information and a broader variety of chords than what was possible to cover in the lectures. The following code loads data from one of the files (change ``file_idx`` to change the file) and extracts the basic numeral annotations. As you can see, these are still somewhat richer and more diverse than what we have covered."
   ]
  },
  {
   "cell_type": "code",
   "execution_count": 13,
   "id": "1e552b454d689943",
   "metadata": {
    "ExecuteTime": {
     "end_time": "2024-03-07T19:54:12.657226889Z",
     "start_time": "2024-03-07T19:54:12.648965902Z"
    }
   },
   "outputs": [
    {
     "name": "stdout",
     "output_type": "stream",
     "text": [
      "n06op18-6_01.harmonies.tsv\n",
      "['I', 'V', 'I', 'I', 'V', 'I', 'V', 'I', 'I', 'vi', 'V', 'V', 'V', 'V', 'V', 'V', 'V', 'V', 'V', 'V', 'V', 'V', 'V', 'V', 'I', 'V', 'I', 'V', 'I', 'V', 'I', 'I', 'vi', 'vii', '#vii', 'iii', 'ii', 'ii', 'V', 'I', 'I', 'V', 'I', 'V', 'V', 'V', 'V', 'I', 'V', 'I', 'V', 'I', 'V', 'I', 'V', 'I', 'V', 'I', 'V', 'I', 'I', 'V', 'I', 'V', 'I', 'V', 'I', 'V', 'i', '#vii', 'i', '#vii', 'i', 'V', 'V', 'i', 'V', 'iv', 'III', 'V', 'III', 'VI', 'bII', 'V', 'V', 'i', 'ii', 'i', 'V', 'I', 'ii', 'V', 'V', 'I', 'V', 'I', 'vi', 'ii', 'V', 'I', 'V', 'I', 'V', 'vi', 'V', 'vi', 'V', 'IV', 'V', 'V', '#vii', 'vi', 'ii', 'vii', 'V', 'V', 'I', 'V', 'V', 'V', 'V', 'I', 'I', 'V', 'I', 'I', 'V', 'I', 'I', 'V', 'I', 'V', 'I', 'I', 'V', 'I', 'I', 'I', 'V', 'I', 'I', 'I', 'V', 'I', 'V', 'I', '#vii', 'i', 'V', 'i', 'i', 'V', 'i', 'i', 'V', 'V', 'I', 'I', 'V', 'V', 'I', 'I', 'V', 'V', 'i', 'i', 'V', 'V', 'I', 'V', 'V', 'I', 'I', 'V', 'V', 'i', 'i', 'V', 'V', 'V', 'I', 'I', 'V', 'V', 'V', 'V', 'V', 'i', 'V', 'V', 'I', 'V', 'I', 'V', 'I', 'V', 'I', 'iv', 'vii', 'V', 'V', 'V', 'V', 'V', 'V', 'V', 'vii', 'vii', 'V', 'vii', 'vii', 'V', 'vii', 'vii', 'vii', 'vii', 'vii', 'vii', '@none', 'vii', 'V', 'I', 'V', 'I', 'I', 'V', 'I', 'V', 'I', 'vi', 'vi', 'V', 'V', 'V', 'V', 'V', 'V', 'V', 'V', 'V', 'V', 'V', 'V', 'V', 'V', 'V', 'I', 'V', 'I', 'V', 'I', 'V', 'I', 'vii', 'I', 'vii', 'I', 'vii', 'I', 'vii', 'I', 'vii', 'I', 'V', 'I', 'ii', 'V', 'i', 'V', 'i', 'iv', 'Ger', 'V', 'V', 'V', 'V', 'V', 'V', 'V', 'V', 'V', 'V', 'V', 'V', 'V', 'V', 'V', 'V', 'V', 'V', 'V', 'V', 'V', 'I', 'V', 'I', 'V', 'I', 'V', 'i', '#vii', 'i', '#vii', 'i', 'V', 'V', 'i', 'V', 'iv', 'iv', 'III', 'V', 'III', 'VI', 'ii', 'bII', 'V', 'V', 'i', 'bII', 'V', 'V', 'I', 'ii', 'V', 'V', 'I', 'V', 'I', 'vi', 'ii', 'V', 'I', 'V', 'I', 'V', 'vi', 'V', 'vi', 'V', 'IV', 'V', 'V', '#vii', 'vi', 'ii', 'vii', 'V', 'V', 'I', 'I', 'I', 'V', 'V', 'V', 'V', 'I', 'I', 'V', 'V', 'V', 'I', 'I', 'V', 'V', 'V', 'V', 'I', 'I', 'V', 'I', 'V', 'I', 'I']\n"
     ]
    }
   ],
   "source": [
    "from muprocdurham import dcml_harmony_regex as regex\n",
    "import corpusinterface as ci\n",
    "import pandas\n",
    "\n",
    "ci.reset_config('ABC_corpus.ini')\n",
    "\n",
    "corpus = ci.load(\"ABC_harmonies_tsv\", download=True)\n",
    "\n",
    "file_name = 'n06op18-6_01.harmonies.tsv'\n",
    "for idx, file in enumerate(corpus.files()):\n",
    "    this_file_name = str(file).split(\"/\")[-1]\n",
    "    if this_file_name != file_name:\n",
    "        continue\n",
    "    print(this_file_name)\n",
    "    data = pandas.read_csv(file, sep='\\t')\n",
    "    harmonies = list(data['label'])\n",
    "    cleaned_harmonies = []\n",
    "    for h in harmonies:\n",
    "        match = regex.match(h)\n",
    "        # print(f\"Full: {h}, Chord: {match['chord']}, numeral: {match['numeral']}\")  # uncomment for more info\n",
    "        cleaned_harmonies.append(match['numeral'])\n",
    "    print(cleaned_harmonies)"
   ]
  },
  {
   "cell_type": "markdown",
   "id": "1dbfcd84ff9e4eb1",
   "metadata": {},
   "source": [
    "**Exercise:** Use one of the following grammars (similar to those from the lecture slides) to parse the first couple of harmonies (try out different pieces) and check how many possible parse trees there are."
   ]
  },
  {
   "cell_type": "code",
   "execution_count": 14,
   "id": "3ecb2131e3de4054",
   "metadata": {
    "ExecuteTime": {
     "end_time": "2024-03-07T19:54:16.588164256Z",
     "start_time": "2024-03-07T19:54:16.579484661Z"
    }
   },
   "outputs": [],
   "source": [
    "major_grammar = TreeCFG(\n",
    "    non_terminal_rules=[('I', 'V', 'I'),\n",
    "                        ('IV', 'I', 'IV'),\n",
    "                        ('vii0', 'IV', 'vii0'),\n",
    "                        ('iii', 'vii0', 'iii'),\n",
    "                        ('vi', 'iii', 'vi'),\n",
    "                        ('ii', 'vi', 'ii'),\n",
    "                        ('V', 'ii', 'V'),\n",
    "                        ('I', 'I', 'I')],\n",
    "    # relative\n",
    "    terminal_rules=[('I', 'I'),\n",
    "                    ('IV', 'IV'),\n",
    "                    ('vii0', 'vii0'),\n",
    "                    ('iii', 'iii'),\n",
    "                    ('vi', 'vi'),\n",
    "                    ('ii', 'ii'),\n",
    "                    ('V', 'V')],\n",
    "    # C Major\n",
    "    # terminal_rules=[('I', 'C'),\n",
    "    #                 ('IV', 'F'),\n",
    "    #                 ('vii0', 'B0'),\n",
    "    #                 ('iii', 'Em'),\n",
    "    #                 ('vi', 'Am'),\n",
    "    #                 ('ii', 'Dm'),\n",
    "    #                 ('V', 'G')],\n",
    "    start_symbol='I'\n",
    ")\n",
    "\n",
    "minor_grammar = TreeCFG(\n",
    "    non_terminal_rules=[('i', 'v', 'i'),\n",
    "                        ('i', 'V', 'i'),\n",
    "                        ('iv', 'i', 'iv'),\n",
    "                        ('VII', 'iv', 'VII'),\n",
    "                        ('III', 'VII', 'III'),\n",
    "                        ('VI', 'III', 'VI'),\n",
    "                        ('ii0', 'VI', 'ii0'),\n",
    "                        ('v', 'ii0', 'v'),\n",
    "                        ('V', 'ii0', 'V'),\n",
    "                        ('i', 'i', 'i')],\n",
    "    # relative\n",
    "    terminal_rules=[('i', 'i'),\n",
    "                    ('iv', 'iv'),\n",
    "                    ('VII', 'VII'),\n",
    "                    ('III', 'III'),\n",
    "                    ('VI', 'VI'),\n",
    "                    ('ii0', 'ii0'),\n",
    "                    ('V', 'V'),\n",
    "                    ('v', 'v')],\n",
    "    # A Minor\n",
    "    # terminal_rules=[('i', 'Am'),\n",
    "    #                 ('iv', 'Dm'),\n",
    "    #                 ('VII', 'G'),\n",
    "    #                 ('III', 'C'),\n",
    "    #                 ('VI', 'F'),\n",
    "    #                 ('ii0', 'B0'),\n",
    "    #                 ('V', 'E'),\n",
    "    #                 ('v', 'Em')],\n",
    "    start_symbol='i'\n",
    ")"
   ]
  },
  {
   "cell_type": "code",
   "execution_count": 15,
   "id": "2d0f88fac1dfc7b1",
   "metadata": {
    "ExecuteTime": {
     "end_time": "2024-03-07T19:54:19.139843182Z",
     "start_time": "2024-03-07T19:54:19.133850872Z"
    }
   },
   "outputs": [
    {
     "name": "stdout",
     "output_type": "stream",
     "text": [
      "                                                                                                                                                                                                                                                               ╱╲                                                                                                                                                                                                                                                               \n",
      "                                                                                                                                                                                                                                                              ╱  ╲                                                                                                                                                                                                                                                              \n",
      "                                                                                                                                                                                                                                                             ╱    ╲                                                                                                                                                                                                                                                             \n",
      "                                                                                                                                                                                                                                                            ╱      ╲                                                                                                                                                                                                                                                            \n",
      "                                                                                                                                                                                                                                                           ╱        ╲                                                                                                                                                                                                                                                           \n",
      "                                                                                                                                                                                                                                                          ╱          ╲                                                                                                                                                                                                                                                          \n",
      "                                                                                                                                                                                                                                                         ╱            ╲                                                                                                                                                                                                                                                         \n",
      "                                                                                                                                                                                                                                                        ╱              ╲                                                                                                                                                                                                                                                        \n",
      "                                                                                                                                                                                                                                                       ╱                ╲                                                                                                                                                                                                                                                       \n",
      "                                                                                                                                                                                                                                                      ╱                  ╲                                                                                                                                                                                                                                                      \n",
      "                                                                                                                                                                                                                                                     ╱                    ╲                                                                                                                                                                                                                                                     \n",
      "                                                                                                                                                                                                                                                    ╱                      ╲                                                                                                                                                                                                                                                    \n",
      "                                                                                                                                                                                                                                                   ╱                        ╲                                                                                                                                                                                                                                                   \n",
      "                                                                                                                                                                                                                                                  ╱                          ╲                                                                                                                                                                                                                                                  \n",
      "                                                                                                                                                                                                                                                 ╱                            ╲                                                                                                                                                                                                                                                 \n",
      "                                                                                                                                                                                                                                                ╱                              ╲                                                                                                                                                                                                                                                \n",
      "                                                                                                                                                                                                                                               ╱                                ╲                                                                                                                                                                                                                                               \n",
      "                                                                                                                                                                                                                                              ╱                                  ╲                                                                                                                                                                                                                                              \n",
      "                                                                                                                                                                                                                                             ╱                                    ╲                                                                                                                                                                                                                                             \n",
      "                                                                                                                                                                                                                                            ╱                                      ╲                                                                                                                                                                                                                                            \n",
      "                                                                                                                                                                                                                                           ╱                                        ╲                                                                                                                                                                                                                                           \n",
      "                                                                                                                                                                                                                                          ╱                                          ╲                                                                                                                                                                                                                                          \n",
      "                                                                                                                                                                                                                                         ╱                                            ╲                                                                                                                                                                                                                                         \n",
      "                                                                                                                                                                                                                                        ╱                                              ╲                                                                                                                                                                                                                                        \n",
      "                                                                                                                                                                                                                                       ╱                                                ╲                                                                                                                                                                                                                                       \n",
      "                                                                                                                                                                                                                                      ╱                                                  ╲                                                                                                                                                                                                                                      \n",
      "                                                                                                                                                                                                                                     ╱                                                    ╲                                                                                                                                                                                                                                     \n",
      "                                                                                                                                                                                                                                    ╱                                                      ╲                                                                                                                                                                                                                                    \n",
      "                                                                                                                                                                                                                                   ╱                                                        ╲                                                                                                                                                                                                                                   \n",
      "                                                                                                                                                                                                                                  ╱                                                          ╲                                                                                                                                                                                                                                  \n",
      "                                                                                                                                                                                                                                 ╱                                                            ╲                                                                                                                                                                                                                                 \n",
      "                                                                                                                                                                                                                                ╱ {I:{('I', 'I', 4),('I', 'I', 6),('I', 'I', 1),('I', 'I', 3)}}╲                                                                                                                                                                                                                                \n",
      "                                                                                                                                                                                                                               ╱╲                                                              ╱╲                                                                                                                                                                                                                               \n",
      "                                                                                                                                                                                                                              ╱  ╲                                                            ╱  ╲                                                                                                                                                                                                                              \n",
      "                                                                                                                                                                                                                             ╱    ╲                                                          ╱    ╲                                                                                                                                                                                                                             \n",
      "                                                                                                                                                                                                                            ╱      ╲                                                        ╱      ╲                                                                                                                                                                                                                            \n",
      "                                                                                                                                                                                                                           ╱        ╲                                                      ╱        ╲                                                                                                                                                                                                                           \n",
      "                                                                                                                                                                                                                          ╱          ╲                                                    ╱          ╲                                                                                                                                                                                                                          \n",
      "                                                                                                                                                                                                                         ╱            ╲                                                  ╱            ╲                                                                                                                                                                                                                         \n",
      "                                                                                                                                                                                                                        ╱              ╲                                                ╱              ╲                                                                                                                                                                                                                        \n",
      "                                                                                                                                                                                                                       ╱                ╲                                              ╱                ╲                                                                                                                                                                                                                       \n",
      "                                                                                                                                                                                                                      ╱                  ╲                                            ╱                  ╲                                                                                                                                                                                                                      \n",
      "                                                                                                                                                                                                                     ╱                    ╲                                          ╱                    ╲                                                                                                                                                                                                                     \n",
      "                                                                                                                                                                                                                    ╱                      ╲                                        ╱                      ╲                                                                                                                                                                                                                    \n",
      "                                                                                                                                                                                                                   ╱                        ╲                                      ╱                        ╲                                                                                                                                                                                                                   \n",
      "                                                                                                                                                                                                                  ╱                          ╲                                    ╱                          ╲                                                                                                                                                                                                                  \n",
      "                                                                                                                                                                                                                 ╱                            ╲                                  ╱                            ╲                                                                                                                                                                                                                 \n",
      "                                                                                                                                                                                                                ╱                              ╲                                ╱                              ╲                                                                                                                                                                                                                \n",
      "                                                                                                                                                                                                               ╱                                ╲                              ╱                                ╲                                                                                                                                                                                                               \n",
      "                                                                                                                                                                                                              ╱                                  ╲                            ╱                                  ╲                                                                                                                                                                                                              \n",
      "                                                                                                                                                                                                             ╱                                    ╲                          ╱                                    ╲                                                                                                                                                                                                             \n",
      "                                                                                                                                                                                                            ╱                                      ╲                        ╱                                      ╲                                                                                                                                                                                                            \n",
      "                                                                                                                                                                                                           ╱                                        ╲                      ╱                                        ╲                                                                                                                                                                                                           \n",
      "                                                                                                                                                                                                          ╱                                          ╲                    ╱                                          ╲                                                                                                                                                                                                          \n",
      "                                                                                                                                                                                                         ╱                                            ╲                  ╱                                            ╲                                                                                                                                                                                                         \n",
      "                                                                                                                                                                                                        ╱                                              ╲                ╱                                              ╲                                                                                                                                                                                                        \n",
      "                                                                                                                                                                                                       ╱                                                ╲              ╱                                                ╲                                                                                                                                                                                                       \n",
      "                                                                                                                                                                                                      ╱                                                  ╲            ╱                                                  ╲                                                                                                                                                                                                      \n",
      "                                                                                                                                                                                                     ╱                                                    ╲          ╱                                                    ╲                                                                                                                                                                                                     \n",
      "                                                                                                                                                                                                    ╱                                                      ╲        ╱                                                      ╲                                                                                                                                                                                                    \n",
      "                                                                                                                                                                                                   ╱                                                        ╲      ╱                                                        ╲                                                                                                                                                                                                   \n",
      "                                                                                                                                                                                                  ╱                                                          ╲    ╱                                                          ╲                                                                                                                                                                                                  \n",
      "                                                                                                                                                                                                 ╱                                                            ╲  ╱                                                            ╲                                                                                                                                                                                                 \n",
      "                                                                                                                                                                                                ╱                                                            {}╲╱ {I:{('I', 'I', 4),('I', 'I', 6),('I', 'I', 3),('V', 'I', 2)}}╲                                                                                                                                                                                                \n",
      "                                                                                                                                                                                               ╱╲                                                              ╱╲                                                              ╱╲                                                                                                                                                                                               \n",
      "                                                                                                                                                                                              ╱  ╲                                                            ╱  ╲                                                            ╱  ╲                                                                                                                                                                                              \n",
      "                                                                                                                                                                                             ╱    ╲                                                          ╱    ╲                                                          ╱    ╲                                                                                                                                                                                             \n",
      "                                                                                                                                                                                            ╱      ╲                                                        ╱      ╲                                                        ╱      ╲                                                                                                                                                                                            \n",
      "                                                                                                                                                                                           ╱        ╲                                                      ╱        ╲                                                      ╱        ╲                                                                                                                                                                                           \n",
      "                                                                                                                                                                                          ╱          ╲                                                    ╱          ╲                                                    ╱          ╲                                                                                                                                                                                          \n",
      "                                                                                                                                                                                         ╱            ╲                                                  ╱            ╲                                                  ╱            ╲                                                                                                                                                                                         \n",
      "                                                                                                                                                                                        ╱              ╲                                                ╱              ╲                                                ╱              ╲                                                                                                                                                                                        \n",
      "                                                                                                                                                                                       ╱                ╲                                              ╱                ╲                                              ╱                ╲                                                                                                                                                                                       \n",
      "                                                                                                                                                                                      ╱                  ╲                                            ╱                  ╲                                            ╱                  ╲                                                                                                                                                                                      \n",
      "                                                                                                                                                                                     ╱                    ╲                                          ╱                    ╲                                          ╱                    ╲                                                                                                                                                                                     \n",
      "                                                                                                                                                                                    ╱                      ╲                                        ╱                      ╲                                        ╱                      ╲                                                                                                                                                                                    \n",
      "                                                                                                                                                                                   ╱                        ╲                                      ╱                        ╲                                      ╱                        ╲                                                                                                                                                                                   \n",
      "                                                                                                                                                                                  ╱                          ╲                                    ╱                          ╲                                    ╱                          ╲                                                                                                                                                                                  \n",
      "                                                                                                                                                                                 ╱                            ╲                                  ╱                            ╲                                  ╱                            ╲                                                                                                                                                                                 \n",
      "                                                                                                                                                                                ╱                              ╲                                ╱                              ╲                                ╱                              ╲                                                                                                                                                                                \n",
      "                                                                                                                                                                               ╱                                ╲                              ╱                                ╲                              ╱                                ╲                                                                                                                                                                               \n",
      "                                                                                                                                                                              ╱                                  ╲                            ╱                                  ╲                            ╱                                  ╲                                                                                                                                                                              \n",
      "                                                                                                                                                                             ╱                                    ╲                          ╱                                    ╲                          ╱                                    ╲                                                                                                                                                                             \n",
      "                                                                                                                                                                            ╱                                      ╲                        ╱                                      ╲                        ╱                                      ╲                                                                                                                                                                            \n",
      "                                                                                                                                                                           ╱                                        ╲                      ╱                                        ╲                      ╱                                        ╲                                                                                                                                                                           \n",
      "                                                                                                                                                                          ╱                                          ╲                    ╱                                          ╲                    ╱                                          ╲                                                                                                                                                                          \n",
      "                                                                                                                                                                         ╱                                            ╲                  ╱                                            ╲                  ╱                                            ╲                                                                                                                                                                         \n",
      "                                                                                                                                                                        ╱                                              ╲                ╱                                              ╲                ╱                                              ╲                                                                                                                                                                        \n",
      "                                                                                                                                                                       ╱                                                ╲              ╱                                                ╲              ╱                                                ╲                                                                                                                                                                       \n",
      "                                                                                                                                                                      ╱                                                  ╲            ╱                                                  ╲            ╱                                                  ╲                                                                                                                                                                      \n",
      "                                                                                                                                                                     ╱                                                    ╲          ╱                                                    ╲          ╱                                                    ╲                                                                                                                                                                     \n",
      "                                                                                                                                                                    ╱                                                      ╲        ╱                                                      ╲        ╱                                                      ╲                                                                                                                                                                    \n",
      "                                                                                                                                                                   ╱                                                        ╲      ╱                                                        ╲      ╱                                                        ╲                                                                                                                                                                   \n",
      "                                                                                                                                                                  ╱                                                          ╲    ╱                                                          ╲    ╱                                                          ╲                                                                                                                                                                  \n",
      "                                                                                                                                                                 ╱                                                            ╲  ╱                                                            ╲  ╱                                                            ╲                                                                                                                                                                 \n",
      "                                                                                                                                                                ╱               {I:{('I', 'I', 4),('I', 'I', 1),('I', 'I', 3)}}╲╱                                                            {}╲╱               {I:{('I', 'I', 4),('I', 'I', 6),('I', 'I', 3)}}╲                                                                                                                                                                \n",
      "                                                                                                                                                               ╱╲                                                              ╱╲                                                              ╱╲                                                              ╱╲                                                                                                                                                               \n",
      "                                                                                                                                                              ╱  ╲                                                            ╱  ╲                                                            ╱  ╲                                                            ╱  ╲                                                                                                                                                              \n",
      "                                                                                                                                                             ╱    ╲                                                          ╱    ╲                                                          ╱    ╲                                                          ╱    ╲                                                                                                                                                             \n",
      "                                                                                                                                                            ╱      ╲                                                        ╱      ╲                                                        ╱      ╲                                                        ╱      ╲                                                                                                                                                            \n",
      "                                                                                                                                                           ╱        ╲                                                      ╱        ╲                                                      ╱        ╲                                                      ╱        ╲                                                                                                                                                           \n",
      "                                                                                                                                                          ╱          ╲                                                    ╱          ╲                                                    ╱          ╲                                                    ╱          ╲                                                                                                                                                          \n",
      "                                                                                                                                                         ╱            ╲                                                  ╱            ╲                                                  ╱            ╲                                                  ╱            ╲                                                                                                                                                         \n",
      "                                                                                                                                                        ╱              ╲                                                ╱              ╲                                                ╱              ╲                                                ╱              ╲                                                                                                                                                        \n",
      "                                                                                                                                                       ╱                ╲                                              ╱                ╲                                              ╱                ╲                                              ╱                ╲                                                                                                                                                       \n",
      "                                                                                                                                                      ╱                  ╲                                            ╱                  ╲                                            ╱                  ╲                                            ╱                  ╲                                                                                                                                                      \n",
      "                                                                                                                                                     ╱                    ╲                                          ╱                    ╲                                          ╱                    ╲                                          ╱                    ╲                                                                                                                                                     \n",
      "                                                                                                                                                    ╱                      ╲                                        ╱                      ╲                                        ╱                      ╲                                        ╱                      ╲                                                                                                                                                    \n",
      "                                                                                                                                                   ╱                        ╲                                      ╱                        ╲                                      ╱                        ╲                                      ╱                        ╲                                                                                                                                                   \n",
      "                                                                                                                                                  ╱                          ╲                                    ╱                          ╲                                    ╱                          ╲                                    ╱                          ╲                                                                                                                                                  \n",
      "                                                                                                                                                 ╱                            ╲                                  ╱                            ╲                                  ╱                            ╲                                  ╱                            ╲                                                                                                                                                 \n",
      "                                                                                                                                                ╱                              ╲                                ╱                              ╲                                ╱                              ╲                                ╱                              ╲                                                                                                                                                \n",
      "                                                                                                                                               ╱                                ╲                              ╱                                ╲                              ╱                                ╲                              ╱                                ╲                                                                                                                                               \n",
      "                                                                                                                                              ╱                                  ╲                            ╱                                  ╲                            ╱                                  ╲                            ╱                                  ╲                                                                                                                                              \n",
      "                                                                                                                                             ╱                                    ╲                          ╱                                    ╲                          ╱                                    ╲                          ╱                                    ╲                                                                                                                                             \n",
      "                                                                                                                                            ╱                                      ╲                        ╱                                      ╲                        ╱                                      ╲                        ╱                                      ╲                                                                                                                                            \n",
      "                                                                                                                                           ╱                                        ╲                      ╱                                        ╲                      ╱                                        ╲                      ╱                                        ╲                                                                                                                                           \n",
      "                                                                                                                                          ╱                                          ╲                    ╱                                          ╲                    ╱                                          ╲                    ╱                                          ╲                                                                                                                                          \n",
      "                                                                                                                                         ╱                                            ╲                  ╱                                            ╲                  ╱                                            ╲                  ╱                                            ╲                                                                                                                                         \n",
      "                                                                                                                                        ╱                                              ╲                ╱                                              ╲                ╱                                              ╲                ╱                                              ╲                                                                                                                                        \n",
      "                                                                                                                                       ╱                                                ╲              ╱                                                ╲              ╱                                                ╲              ╱                                                ╲                                                                                                                                       \n",
      "                                                                                                                                      ╱                                                  ╲            ╱                                                  ╲            ╱                                                  ╲            ╱                                                  ╲                                                                                                                                      \n",
      "                                                                                                                                     ╱                                                    ╲          ╱                                                    ╲          ╱                                                    ╲          ╱                                                    ╲                                                                                                                                     \n",
      "                                                                                                                                    ╱                                                      ╲        ╱                                                      ╲        ╱                                                      ╲        ╱                                                      ╲                                                                                                                                    \n",
      "                                                                                                                                   ╱                                                        ╲      ╱                                                        ╲      ╱                                                        ╲      ╱                                                        ╲                                                                                                                                   \n",
      "                                                                                                                                  ╱                                                          ╲    ╱                                                          ╲    ╱                                                          ╲    ╱                                                          ╲                                                                                                                                  \n",
      "                                                                                                                                 ╱                                                            ╲  ╱                                                            ╲  ╱                                                            ╲  ╱                                                            ╲                                                                                                                                 \n",
      "                                                                                                                                ╱                                                            {}╲╱               {I:{('I', 'I', 4),('I', 'I', 3),('V', 'I', 2)}}╲╱                                                            {}╲╱                             {I:{('I', 'I', 4),('I', 'I', 6)}}╲                                                                                                                                \n",
      "                                                                                                                               ╱╲                                                              ╱╲                                                              ╱╲                                                              ╱╲                                                              ╱╲                                                                                                                               \n",
      "                                                                                                                              ╱  ╲                                                            ╱  ╲                                                            ╱  ╲                                                            ╱  ╲                                                            ╱  ╲                                                                                                                              \n",
      "                                                                                                                             ╱    ╲                                                          ╱    ╲                                                          ╱    ╲                                                          ╱    ╲                                                          ╱    ╲                                                                                                                             \n",
      "                                                                                                                            ╱      ╲                                                        ╱      ╲                                                        ╱      ╲                                                        ╱      ╲                                                        ╱      ╲                                                                                                                            \n",
      "                                                                                                                           ╱        ╲                                                      ╱        ╲                                                      ╱        ╲                                                      ╱        ╲                                                      ╱        ╲                                                                                                                           \n",
      "                                                                                                                          ╱          ╲                                                    ╱          ╲                                                    ╱          ╲                                                    ╱          ╲                                                    ╱          ╲                                                                                                                          \n",
      "                                                                                                                         ╱            ╲                                                  ╱            ╲                                                  ╱            ╲                                                  ╱            ╲                                                  ╱            ╲                                                                                                                         \n",
      "                                                                                                                        ╱              ╲                                                ╱              ╲                                                ╱              ╲                                                ╱              ╲                                                ╱              ╲                                                                                                                        \n",
      "                                                                                                                       ╱                ╲                                              ╱                ╲                                              ╱                ╲                                              ╱                ╲                                              ╱                ╲                                                                                                                       \n",
      "                                                                                                                      ╱                  ╲                                            ╱                  ╲                                            ╱                  ╲                                            ╱                  ╲                                            ╱                  ╲                                                                                                                      \n",
      "                                                                                                                     ╱                    ╲                                          ╱                    ╲                                          ╱                    ╲                                          ╱                    ╲                                          ╱                    ╲                                                                                                                     \n",
      "                                                                                                                    ╱                      ╲                                        ╱                      ╲                                        ╱                      ╲                                        ╱                      ╲                                        ╱                      ╲                                                                                                                    \n",
      "                                                                                                                   ╱                        ╲                                      ╱                        ╲                                      ╱                        ╲                                      ╱                        ╲                                      ╱                        ╲                                                                                                                   \n",
      "                                                                                                                  ╱                          ╲                                    ╱                          ╲                                    ╱                          ╲                                    ╱                          ╲                                    ╱                          ╲                                                                                                                  \n",
      "                                                                                                                 ╱                            ╲                                  ╱                            ╲                                  ╱                            ╲                                  ╱                            ╲                                  ╱                            ╲                                                                                                                 \n",
      "                                                                                                                ╱                              ╲                                ╱                              ╲                                ╱                              ╲                                ╱                              ╲                                ╱                              ╲                                                                                                                \n",
      "                                                                                                               ╱                                ╲                              ╱                                ╲                              ╱                                ╲                              ╱                                ╲                              ╱                                ╲                                                                                                               \n",
      "                                                                                                              ╱                                  ╲                            ╱                                  ╲                            ╱                                  ╲                            ╱                                  ╲                            ╱                                  ╲                                                                                                              \n",
      "                                                                                                             ╱                                    ╲                          ╱                                    ╲                          ╱                                    ╲                          ╱                                    ╲                          ╱                                    ╲                                                                                                             \n",
      "                                                                                                            ╱                                      ╲                        ╱                                      ╲                        ╱                                      ╲                        ╱                                      ╲                        ╱                                      ╲                                                                                                            \n",
      "                                                                                                           ╱                                        ╲                      ╱                                        ╲                      ╱                                        ╲                      ╱                                        ╲                      ╱                                        ╲                                                                                                           \n",
      "                                                                                                          ╱                                          ╲                    ╱                                          ╲                    ╱                                          ╲                    ╱                                          ╲                    ╱                                          ╲                                                                                                          \n",
      "                                                                                                         ╱                                            ╲                  ╱                                            ╲                  ╱                                            ╲                  ╱                                            ╲                  ╱                                            ╲                                                                                                         \n",
      "                                                                                                        ╱                                              ╲                ╱                                              ╲                ╱                                              ╲                ╱                                              ╲                ╱                                              ╲                                                                                                        \n",
      "                                                                                                       ╱                                                ╲              ╱                                                ╲              ╱                                                ╲              ╱                                                ╲              ╱                                                ╲                                                                                                       \n",
      "                                                                                                      ╱                                                  ╲            ╱                                                  ╲            ╱                                                  ╲            ╱                                                  ╲            ╱                                                  ╲                                                                                                      \n",
      "                                                                                                     ╱                                                    ╲          ╱                                                    ╲          ╱                                                    ╲          ╱                                                    ╲          ╱                                                    ╲                                                                                                     \n",
      "                                                                                                    ╱                                                      ╲        ╱                                                      ╲        ╱                                                      ╲        ╱                                                      ╲        ╱                                                      ╲                                                                                                    \n",
      "                                                                                                   ╱                                                        ╲      ╱                                                        ╲      ╱                                                        ╲      ╱                                                        ╲      ╱                                                        ╲                                                                                                   \n",
      "                                                                                                  ╱                                                          ╲    ╱                                                          ╲    ╱                                                          ╲    ╱                                                          ╲    ╱                                                          ╲                                                                                                  \n",
      "                                                                                                 ╱                                                            ╲  ╱                                                            ╲  ╱                                                            ╲  ╱                                                            ╲  ╱                                                            ╲                                                                                                 \n",
      "                                                                                                ╱                             {I:{('I', 'I', 1),('I', 'I', 3)}}╲╱                                                            {}╲╱                             {I:{('I', 'I', 4),('I', 'I', 3)}}╲╱                                                            {}╲╱                             {I:{('I', 'I', 6),('V', 'I', 5)}}╲                                                                                                \n",
      "                                                                                               ╱╲                                                              ╱╲                                                              ╱╲                                                              ╱╲                                                              ╱╲                                                              ╱╲                                                                                               \n",
      "                                                                                              ╱  ╲                                                            ╱  ╲                                                            ╱  ╲                                                            ╱  ╲                                                            ╱  ╲                                                            ╱  ╲                                                                                              \n",
      "                                                                                             ╱    ╲                                                          ╱    ╲                                                          ╱    ╲                                                          ╱    ╲                                                          ╱    ╲                                                          ╱    ╲                                                                                             \n",
      "                                                                                            ╱      ╲                                                        ╱      ╲                                                        ╱      ╲                                                        ╱      ╲                                                        ╱      ╲                                                        ╱      ╲                                                                                            \n",
      "                                                                                           ╱        ╲                                                      ╱        ╲                                                      ╱        ╲                                                      ╱        ╲                                                      ╱        ╲                                                      ╱        ╲                                                                                           \n",
      "                                                                                          ╱          ╲                                                    ╱          ╲                                                    ╱          ╲                                                    ╱          ╲                                                    ╱          ╲                                                    ╱          ╲                                                                                          \n",
      "                                                                                         ╱            ╲                                                  ╱            ╲                                                  ╱            ╲                                                  ╱            ╲                                                  ╱            ╲                                                  ╱            ╲                                                                                         \n",
      "                                                                                        ╱              ╲                                                ╱              ╲                                                ╱              ╲                                                ╱              ╲                                                ╱              ╲                                                ╱              ╲                                                                                        \n",
      "                                                                                       ╱                ╲                                              ╱                ╲                                              ╱                ╲                                              ╱                ╲                                              ╱                ╲                                              ╱                ╲                                                                                       \n",
      "                                                                                      ╱                  ╲                                            ╱                  ╲                                            ╱                  ╲                                            ╱                  ╲                                            ╱                  ╲                                            ╱                  ╲                                                                                      \n",
      "                                                                                     ╱                    ╲                                          ╱                    ╲                                          ╱                    ╲                                          ╱                    ╲                                          ╱                    ╲                                          ╱                    ╲                                                                                     \n",
      "                                                                                    ╱                      ╲                                        ╱                      ╲                                        ╱                      ╲                                        ╱                      ╲                                        ╱                      ╲                                        ╱                      ╲                                                                                    \n",
      "                                                                                   ╱                        ╲                                      ╱                        ╲                                      ╱                        ╲                                      ╱                        ╲                                      ╱                        ╲                                      ╱                        ╲                                                                                   \n",
      "                                                                                  ╱                          ╲                                    ╱                          ╲                                    ╱                          ╲                                    ╱                          ╲                                    ╱                          ╲                                    ╱                          ╲                                                                                  \n",
      "                                                                                 ╱                            ╲                                  ╱                            ╲                                  ╱                            ╲                                  ╱                            ╲                                  ╱                            ╲                                  ╱                            ╲                                                                                 \n",
      "                                                                                ╱                              ╲                                ╱                              ╲                                ╱                              ╲                                ╱                              ╲                                ╱                              ╲                                ╱                              ╲                                                                                \n",
      "                                                                               ╱                                ╲                              ╱                                ╲                              ╱                                ╲                              ╱                                ╲                              ╱                                ╲                              ╱                                ╲                                                                               \n",
      "                                                                              ╱                                  ╲                            ╱                                  ╲                            ╱                                  ╲                            ╱                                  ╲                            ╱                                  ╲                            ╱                                  ╲                                                                              \n",
      "                                                                             ╱                                    ╲                          ╱                                    ╲                          ╱                                    ╲                          ╱                                    ╲                          ╱                                    ╲                          ╱                                    ╲                                                                             \n",
      "                                                                            ╱                                      ╲                        ╱                                      ╲                        ╱                                      ╲                        ╱                                      ╲                        ╱                                      ╲                        ╱                                      ╲                                                                            \n",
      "                                                                           ╱                                        ╲                      ╱                                        ╲                      ╱                                        ╲                      ╱                                        ╲                      ╱                                        ╲                      ╱                                        ╲                                                                           \n",
      "                                                                          ╱                                          ╲                    ╱                                          ╲                    ╱                                          ╲                    ╱                                          ╲                    ╱                                          ╲                    ╱                                          ╲                                                                          \n",
      "                                                                         ╱                                            ╲                  ╱                                            ╲                  ╱                                            ╲                  ╱                                            ╲                  ╱                                            ╲                  ╱                                            ╲                                                                         \n",
      "                                                                        ╱                                              ╲                ╱                                              ╲                ╱                                              ╲                ╱                                              ╲                ╱                                              ╲                ╱                                              ╲                                                                        \n",
      "                                                                       ╱                                                ╲              ╱                                                ╲              ╱                                                ╲              ╱                                                ╲              ╱                                                ╲              ╱                                                ╲                                                                       \n",
      "                                                                      ╱                                                  ╲            ╱                                                  ╲            ╱                                                  ╲            ╱                                                  ╲            ╱                                                  ╲            ╱                                                  ╲                                                                      \n",
      "                                                                     ╱                                                    ╲          ╱                                                    ╲          ╱                                                    ╲          ╱                                                    ╲          ╱                                                    ╲          ╱                                                    ╲                                                                     \n",
      "                                                                    ╱                                                      ╲        ╱                                                      ╲        ╱                                                      ╲        ╱                                                      ╲        ╱                                                      ╲        ╱                                                      ╲                                                                    \n",
      "                                                                   ╱                                                        ╲      ╱                                                        ╲      ╱                                                        ╲      ╱                                                        ╲      ╱                                                        ╲      ╱                                                        ╲                                                                   \n",
      "                                                                  ╱                                                          ╲    ╱                                                          ╲    ╱                                                          ╲    ╱                                                          ╲    ╱                                                          ╲    ╱                                                          ╲                                                                  \n",
      "                                                                 ╱                                                            ╲  ╱                                                            ╲  ╱                                                            ╲  ╱                                                            ╲  ╱                                                            ╲  ╱                                                            ╲                                                                 \n",
      "                                                                ╱                                           {I:{('I', 'I', 1)}}╲╱                             {I:{('I', 'I', 3),('V', 'I', 2)}}╲╱                                                            {}╲╱                                           {I:{('I', 'I', 4)}}╲╱                                                            {}╲╱                                           {I:{('I', 'I', 6)}}╲                                                                \n",
      "                                                               ╱╲                                                              ╱╲                                                              ╱╲                                                              ╱╲                                                              ╱╲                                                              ╱╲                                                              ╱╲                                                               \n",
      "                                                              ╱  ╲                                                            ╱  ╲                                                            ╱  ╲                                                            ╱  ╲                                                            ╱  ╲                                                            ╱  ╲                                                            ╱  ╲                                                              \n",
      "                                                             ╱    ╲                                                          ╱    ╲                                                          ╱    ╲                                                          ╱    ╲                                                          ╱    ╲                                                          ╱    ╲                                                          ╱    ╲                                                             \n",
      "                                                            ╱      ╲                                                        ╱      ╲                                                        ╱      ╲                                                        ╱      ╲                                                        ╱      ╲                                                        ╱      ╲                                                        ╱      ╲                                                            \n",
      "                                                           ╱        ╲                                                      ╱        ╲                                                      ╱        ╲                                                      ╱        ╲                                                      ╱        ╲                                                      ╱        ╲                                                      ╱        ╲                                                           \n",
      "                                                          ╱          ╲                                                    ╱          ╲                                                    ╱          ╲                                                    ╱          ╲                                                    ╱          ╲                                                    ╱          ╲                                                    ╱          ╲                                                          \n",
      "                                                         ╱            ╲                                                  ╱            ╲                                                  ╱            ╲                                                  ╱            ╲                                                  ╱            ╲                                                  ╱            ╲                                                  ╱            ╲                                                         \n",
      "                                                        ╱              ╲                                                ╱              ╲                                                ╱              ╲                                                ╱              ╲                                                ╱              ╲                                                ╱              ╲                                                ╱              ╲                                                        \n",
      "                                                       ╱                ╲                                              ╱                ╲                                              ╱                ╲                                              ╱                ╲                                              ╱                ╲                                              ╱                ╲                                              ╱                ╲                                                       \n",
      "                                                      ╱                  ╲                                            ╱                  ╲                                            ╱                  ╲                                            ╱                  ╲                                            ╱                  ╲                                            ╱                  ╲                                            ╱                  ╲                                                      \n",
      "                                                     ╱                    ╲                                          ╱                    ╲                                          ╱                    ╲                                          ╱                    ╲                                          ╱                    ╲                                          ╱                    ╲                                          ╱                    ╲                                                     \n",
      "                                                    ╱                      ╲                                        ╱                      ╲                                        ╱                      ╲                                        ╱                      ╲                                        ╱                      ╲                                        ╱                      ╲                                        ╱                      ╲                                                    \n",
      "                                                   ╱                        ╲                                      ╱                        ╲                                      ╱                        ╲                                      ╱                        ╲                                      ╱                        ╲                                      ╱                        ╲                                      ╱                        ╲                                                   \n",
      "                                                  ╱                          ╲                                    ╱                          ╲                                    ╱                          ╲                                    ╱                          ╲                                    ╱                          ╲                                    ╱                          ╲                                    ╱                          ╲                                                  \n",
      "                                                 ╱                            ╲                                  ╱                            ╲                                  ╱                            ╲                                  ╱                            ╲                                  ╱                            ╲                                  ╱                            ╲                                  ╱                            ╲                                                 \n",
      "                                                ╱                              ╲                                ╱                              ╲                                ╱                              ╲                                ╱                              ╲                                ╱                              ╲                                ╱                              ╲                                ╱                              ╲                                                \n",
      "                                               ╱                                ╲                              ╱                                ╲                              ╱                                ╲                              ╱                                ╲                              ╱                                ╲                              ╱                                ╲                              ╱                                ╲                                               \n",
      "                                              ╱                                  ╲                            ╱                                  ╲                            ╱                                  ╲                            ╱                                  ╲                            ╱                                  ╲                            ╱                                  ╲                            ╱                                  ╲                                              \n",
      "                                             ╱                                    ╲                          ╱                                    ╲                          ╱                                    ╲                          ╱                                    ╲                          ╱                                    ╲                          ╱                                    ╲                          ╱                                    ╲                                             \n",
      "                                            ╱                                      ╲                        ╱                                      ╲                        ╱                                      ╲                        ╱                                      ╲                        ╱                                      ╲                        ╱                                      ╲                        ╱                                      ╲                                            \n",
      "                                           ╱                                        ╲                      ╱                                        ╲                      ╱                                        ╲                      ╱                                        ╲                      ╱                                        ╲                      ╱                                        ╲                      ╱                                        ╲                                           \n",
      "                                          ╱                                          ╲                    ╱                                          ╲                    ╱                                          ╲                    ╱                                          ╲                    ╱                                          ╲                    ╱                                          ╲                    ╱                                          ╲                                          \n",
      "                                         ╱                                            ╲                  ╱                                            ╲                  ╱                                            ╲                  ╱                                            ╲                  ╱                                            ╲                  ╱                                            ╲                  ╱                                            ╲                                         \n",
      "                                        ╱                                              ╲                ╱                                              ╲                ╱                                              ╲                ╱                                              ╲                ╱                                              ╲                ╱                                              ╲                ╱                                              ╲                                        \n",
      "                                       ╱                                                ╲              ╱                                                ╲              ╱                                                ╲              ╱                                                ╲              ╱                                                ╲              ╱                                                ╲              ╱                                                ╲                                       \n",
      "                                      ╱                                                  ╲            ╱                                                  ╲            ╱                                                  ╲            ╱                                                  ╲            ╱                                                  ╲            ╱                                                  ╲            ╱                                                  ╲                                      \n",
      "                                     ╱                                                    ╲          ╱                                                    ╲          ╱                                                    ╲          ╱                                                    ╲          ╱                                                    ╲          ╱                                                    ╲          ╱                                                    ╲                                     \n",
      "                                    ╱                                                      ╲        ╱                                                      ╲        ╱                                                      ╲        ╱                                                      ╲        ╱                                                      ╲        ╱                                                      ╲        ╱                                                      ╲                                    \n",
      "                                   ╱                                                        ╲      ╱                                                        ╲      ╱                                                        ╲      ╱                                                        ╲      ╱                                                        ╲      ╱                                                        ╲      ╱                                                        ╲                                   \n",
      "                                  ╱                                                          ╲    ╱                                                          ╲    ╱                                                          ╲    ╱                                                          ╲    ╱                                                          ╲    ╱                                                          ╲    ╱                                                          ╲                                  \n",
      "                                 ╱                                                            ╲  ╱                                                            ╲  ╱                                                            ╲  ╱                                                            ╲  ╱                                                            ╲  ╱                                                            ╲  ╱                                                            ╲                                 \n",
      "                                ╱                                                            {}╲╱                                           {I:{('V', 'I', 2)}}╲╱                                           {I:{('I', 'I', 3)}}╲╱                                                            {}╲╱                                           {I:{('V', 'I', 5)}}╲╱                                                            {}╲╱                                           {I:{('V', 'I', 7)}}╲                                \n",
      "                               ╱╲                                                              ╱╲                                                              ╱╲                                                              ╱╲                                                              ╱╲                                                              ╱╲                                                              ╱╲                                                              ╱╲                               \n",
      "                              ╱  ╲                                                            ╱  ╲                                                            ╱  ╲                                                            ╱  ╲                                                            ╱  ╲                                                            ╱  ╲                                                            ╱  ╲                                                            ╱  ╲                              \n",
      "                             ╱    ╲                                                          ╱    ╲                                                          ╱    ╲                                                          ╱    ╲                                                          ╱    ╲                                                          ╱    ╲                                                          ╱    ╲                                                          ╱    ╲                             \n",
      "                            ╱      ╲                                                        ╱      ╲                                                        ╱      ╲                                                        ╱      ╲                                                        ╱      ╲                                                        ╱      ╲                                                        ╱      ╲                                                        ╱      ╲                            \n",
      "                           ╱        ╲                                                      ╱        ╲                                                      ╱        ╲                                                      ╱        ╲                                                      ╱        ╲                                                      ╱        ╲                                                      ╱        ╲                                                      ╱        ╲                           \n",
      "                          ╱          ╲                                                    ╱          ╲                                                    ╱          ╲                                                    ╱          ╲                                                    ╱          ╲                                                    ╱          ╲                                                    ╱          ╲                                                    ╱          ╲                          \n",
      "                         ╱            ╲                                                  ╱            ╲                                                  ╱            ╲                                                  ╱            ╲                                                  ╱            ╲                                                  ╱            ╲                                                  ╱            ╲                                                  ╱            ╲                         \n",
      "                        ╱              ╲                                                ╱              ╲                                                ╱              ╲                                                ╱              ╲                                                ╱              ╲                                                ╱              ╲                                                ╱              ╲                                                ╱              ╲                        \n",
      "                       ╱                ╲                                              ╱                ╲                                              ╱                ╲                                              ╱                ╲                                              ╱                ╲                                              ╱                ╲                                              ╱                ╲                                              ╱                ╲                       \n",
      "                      ╱                  ╲                                            ╱                  ╲                                            ╱                  ╲                                            ╱                  ╲                                            ╱                  ╲                                            ╱                  ╲                                            ╱                  ╲                                            ╱                  ╲                      \n",
      "                     ╱                    ╲                                          ╱                    ╲                                          ╱                    ╲                                          ╱                    ╲                                          ╱                    ╲                                          ╱                    ╲                                          ╱                    ╲                                          ╱                    ╲                     \n",
      "                    ╱                      ╲                                        ╱                      ╲                                        ╱                      ╲                                        ╱                      ╲                                        ╱                      ╲                                        ╱                      ╲                                        ╱                      ╲                                        ╱                      ╲                    \n",
      "                   ╱                        ╲                                      ╱                        ╲                                      ╱                        ╲                                      ╱                        ╲                                      ╱                        ╲                                      ╱                        ╲                                      ╱                        ╲                                      ╱                        ╲                   \n",
      "                  ╱                          ╲                                    ╱                          ╲                                    ╱                          ╲                                    ╱                          ╲                                    ╱                          ╲                                    ╱                          ╲                                    ╱                          ╲                                    ╱                          ╲                  \n",
      "                 ╱                            ╲                                  ╱                            ╲                                  ╱                            ╲                                  ╱                            ╲                                  ╱                            ╲                                  ╱                            ╲                                  ╱                            ╲                                  ╱                            ╲                 \n",
      "                ╱                              ╲                                ╱                              ╲                                ╱                              ╲                                ╱                              ╲                                ╱                              ╲                                ╱                              ╲                                ╱                              ╲                                ╱                              ╲                \n",
      "               ╱                                ╲                              ╱                                ╲                              ╱                                ╲                              ╱                                ╲                              ╱                                ╲                              ╱                                ╲                              ╱                                ╲                              ╱                                ╲               \n",
      "              ╱                                  ╲                            ╱                                  ╲                            ╱                                  ╲                            ╱                                  ╲                            ╱                                  ╲                            ╱                                  ╲                            ╱                                  ╲                            ╱                                  ╲              \n",
      "             ╱                                    ╲                          ╱                                    ╲                          ╱                                    ╲                          ╱                                    ╲                          ╱                                    ╲                          ╱                                    ╲                          ╱                                    ╲                          ╱                                    ╲             \n",
      "            ╱                                      ╲                        ╱                                      ╲                        ╱                                      ╲                        ╱                                      ╲                        ╱                                      ╲                        ╱                                      ╲                        ╱                                      ╲                        ╱                                      ╲            \n",
      "           ╱                                        ╲                      ╱                                        ╲                      ╱                                        ╲                      ╱                                        ╲                      ╱                                        ╲                      ╱                                        ╲                      ╱                                        ╲                      ╱                                        ╲           \n",
      "          ╱                                          ╲                    ╱                                          ╲                    ╱                                          ╲                    ╱                                          ╲                    ╱                                          ╲                    ╱                                          ╲                    ╱                                          ╲                    ╱                                          ╲          \n",
      "         ╱                                            ╲                  ╱                                            ╲                  ╱                                            ╲                  ╱                                            ╲                  ╱                                            ╲                  ╱                                            ╲                  ╱                                            ╲                  ╱                                            ╲         \n",
      "        ╱                                              ╲                ╱                                              ╲                ╱                                              ╲                ╱                                              ╲                ╱                                              ╲                ╱                                              ╲                ╱                                              ╲                ╱                                              ╲        \n",
      "       ╱                                                ╲              ╱                                                ╲              ╱                                                ╲              ╱                                                ╲              ╱                                                ╲              ╱                                                ╲              ╱                                                ╲              ╱                                                ╲       \n",
      "      ╱                                                  ╲            ╱                                                  ╲            ╱                                                  ╲            ╱                                                  ╲            ╱                                                  ╲            ╱                                                  ╲            ╱                                                  ╲            ╱                                                  ╲      \n",
      "     ╱                                                    ╲          ╱                                                    ╲          ╱                                                    ╲          ╱                                                    ╲          ╱                                                    ╲          ╱                                                    ╲          ╱                                                    ╲          ╱                                                    ╲     \n",
      "    ╱                                                      ╲        ╱                                                      ╲        ╱                                                      ╲        ╱                                                      ╲        ╱                                                      ╲        ╱                                                      ╲        ╱                                                      ╲        ╱                                                      ╲    \n",
      "   ╱                                                        ╲      ╱                                                        ╲      ╱                                                        ╲      ╱                                                        ╲      ╱                                                        ╲      ╱                                                        ╲      ╱                                                        ╲      ╱                                                        ╲   \n",
      "  ╱                                                          ╲    ╱                                                          ╲    ╱                                                          ╲    ╱                                                          ╲    ╱                                                          ╲    ╱                                                          ╲    ╱                                                          ╲    ╱                                                          ╲  \n",
      " ╱                                                            ╲  ╱                                                            ╲  ╱                                                            ╲  ╱                                                            ╲  ╱                                                            ╲  ╱                                                            ╲  ╱                                                            ╲  ╱                                                            ╲ \n",
      "╱                                                         {I:∅}╲╱                                                         {V:∅}╲╱                                                         {I:∅}╲╱                                                         {I:∅}╲╱                                                         {V:∅}╲╱                                                         {I:∅}╲╱                                                         {V:∅}╲╱                                                         {I:∅}╲\n"
     ]
    }
   ],
   "source": [
    "grammar = major_grammar\n",
    "# grammar = minor_grammar\n",
    "grammar.parse(cleaned_harmonies[:8])\n",
    "print(grammar.chart.pretty())"
   ]
  },
  {
   "cell_type": "code",
   "execution_count": 16,
   "id": "ed04eb7c2270e7c6",
   "metadata": {
    "ExecuteTime": {
     "end_time": "2024-03-07T19:54:22.277052220Z",
     "start_time": "2024-03-07T19:54:22.208693158Z"
    }
   },
   "outputs": [
    {
     "name": "stdout",
     "output_type": "stream",
     "text": [
      "37 possible parse trees\n",
      "                 |                 |                 |                 |                 |                 |                 |                 |                 |                 |                 |                 |                 |                 |                 |                 |                 |                 |                 |                 |                 |                 |                 |                 |                 |                 |                 |                 |                 |                 |                 |                 |                 |                 |                 |                 |                 \n",
      "        I        |        I        |        I        |        I        |        I        |        I        |        I        |        I        |        I        |        I        |        I        |        I        |        I        |        I        |        I        |        I        |        I        |        I        |        I        |        I        |        I        |        I        |        I        |        I        |        I        |        I        |        I        |        I        |        I        |        I        |        I        |        I        |        I        |        I        |        I        |        I        |        I        \n",
      "       ╱ ╲       |       ╱ ╲       |       ╱ ╲       |       ╱ ╲       |       ╱ ╲       |       ╱ ╲       |       ╱ ╲       |       ╱ ╲       |       ╱ ╲       |       ╱ ╲       |       ╱ ╲       |       ╱ ╲       |       ╱ ╲       |       ╱ ╲       |       ╱ ╲       |       ╱ I       |       ╱ I       |       ╱ I       |       ╱ I       |       ╱ I       |       ╱ I       |       ╱ I       |       ╱ I       |       ╱ I       |       ╱ I       |       ╱ I       |       ╱ I       |       ╱ I       |       ╱ I       |       ╱ I       |       ╱ I       |       ╱ I       |       ╱ I       |       ╱ I       |       ╱ ╲       |       ╱ ╲       |       ╱ ╲       \n",
      "      ╱   ╲      |      ╱   ╲      |      ╱   ╲      |      ╱   ╲      |      ╱   ╲      |      ╱   ╲      |      I   ╲      |      I   ╲      |      I   ╲      |      I   ╲      |      I   ╲      |      I   ╲      |      I   ╲      |      I   ╲      |      I   ╲      |      ╱ ╱ ╲      |      ╱ ╱ ╲      |      ╱ ╱ ╲      |      ╱ ╱ ╲      |      ╱ ╱ ╲      |      ╱ ╱ ╲      |      ╱ ╱ ╲      |      ╱ ╱ ╲      |      ╱ ╱ ╲      |      ╱ ╱ ╲      |      ╱ ╱ ╲      |      ╱ ╱ ╲      |      ╱ ╱ I      |      ╱ ╱ I      |      ╱ ╱ I      |      ╱ ╱ I      |      ╱ ╱ I      |      ╱ ╱ I      |      ╱ ╱ I      |      ╱   ╲      |      ╱   ╲      |      ╱   ╲      \n",
      "     ╱     ╲     |     ╱     ╲     |     ╱     ╲     |     ╱     ╲     |     ╱     ╲     |     ╱     ╲     |     ╱ ╲   ╲     |     ╱ ╲   ╲     |     ╱ ╲   ╲     |     ╱ I   ╲     |     ╱ I   ╲     |     ╱ I   ╲     |     ╱ I   ╲     |     ╱ I   ╲     |     ╱ ╲   ╲     |     ╱ ╱   ╲     |     ╱ ╱   ╲     |     ╱ ╱   ╲     |     ╱ ╱   ╲     |     ╱ I   ╲     |     ╱ I   ╲     |     ╱ I   ╲     |     ╱ I   ╲     |     ╱ I   ╲     |     ╱ ╱   I     |     ╱ ╱   I     |     ╱ ╱   I     |     ╱ ╱ ╱ ╲     |     ╱ ╱ ╱ ╲     |     ╱ ╱ ╱ ╲     |     ╱ ╱ ╱ ╲     |     ╱ ╱ ╱ I     |     ╱ ╱ ╱ I     |     ╱ ╱ ╱ I     |     ╱     I     |     ╱     I     |     ╱     I     \n",
      "    I       I    |    I       I    |    I       I    |    I       I    |    I       I    |    I       I    |    I   ╲   ╲    |    I   ╲   ╲    |    I   ╲   ╲    |    ╱ ╱ ╲   ╲    |    ╱ ╱ ╲   ╲    |    ╱ ╱ ╲   ╲    |    ╱ ╱ I   ╲    |    ╱ ╱ I   ╲    |    ╱   ╲   ╲    |    ╱ ╱     I    |    ╱ ╱     I    |    ╱ ╱     I    |    ╱ ╱     I    |    ╱ ╱ ╲   ╲    |    ╱ ╱ ╲   ╲    |    ╱ ╱ ╲   ╲    |    ╱ ╱ I   ╲    |    ╱ ╱ I   ╲    |    ╱ ╱   ╱ I    |    ╱ ╱   ╱ I    |    ╱ ╱   ╱ ╲    |    ╱ ╱ ╱   I    |    ╱ ╱ ╱   I    |    ╱ ╱ I   ╲    |    ╱ ╱ I   ╲    |    ╱ ╱ ╱ ╱ I    |    ╱ ╱ ╱ ╱ I    |    ╱ ╱ ╱ ╱ ╲    |    ╱     ╱ I    |    ╱     ╱ I    |    ╱     ╱ ╲    \n",
      "   ╱ I     ╱ ╲   |   ╱ I     ╱ I   |   ╱ I     ╱ ╲   |   ╱ I     ╱ I   |   I ╲     ╱ ╲   |   I ╲     ╱ I   |   ╱ I   ╲   ╲   |   ╱ I   ╲   ╲   |   I ╲   ╲   ╲   |   ╱ I   ╲   ╲   |   ╱ I   ╲   ╲   |   ╱ ╱   I   ╲   |   ╱ ╱ ╱ ╲   ╲   |   ╱ ╱ ╱ I   ╲   |   I     I   ╲   |   ╱ I     ╱ ╲   |   ╱ I     ╱ I   |   ╱ I     ╱ ╲   |   ╱ I     ╱ I   |   ╱ I   ╲   ╲   |   ╱ I   ╲   ╲   |   ╱ ╱   I   ╲   |   ╱ ╱ ╱ ╲   ╲   |   ╱ ╱ ╱ I   ╲   |   ╱ ╱   ╱ ╱ ╲   |   ╱ ╱   ╱ ╱ I   |   ╱ ╱   I   ╲   |   ╱ ╱ ╱   ╱ ╲   |   ╱ ╱ ╱   ╱ I   |   ╱ ╱ ╱ ╲   ╲   |   ╱ ╱ ╱ I   ╲   |   ╱ ╱ ╱ ╱ ╱ ╲   |   ╱ ╱ ╱ ╱ ╱ I   |   ╱ ╱ ╱ I   ╲   |   I     ╱ ╱ ╲   |   I     ╱ ╱ I   |   I     I   ╲   \n",
      "  ╱ I ╲   I   I  |  ╱ I ╲   ╱ ╱ I  |  ╱ ╱ I   I   I  |  ╱ ╱ I   ╱ ╱ I  |  ╱ I ╲   I   I  |  ╱ I ╲   ╱ ╱ I  |  ╱ I ╲   I   I  |  ╱ ╱ I   I   I  |  ╱ I ╲   I   I  |  ╱ I ╲   I   I  |  ╱ ╱ I   I   I  |  ╱ I   ╱ I   I  |  ╱ ╱ I   I   I  |  ╱ ╱ ╱ ╱ I   I  |  ╱ I   ╱ I   I  |  ╱ I ╲   I   I  |  ╱ I ╲   ╱ ╱ I  |  ╱ ╱ I   I   I  |  ╱ ╱ I   ╱ ╱ I  |  ╱ I ╲   I   I  |  ╱ ╱ I   I   I  |  ╱ I   ╱ I   I  |  ╱ ╱ I   I   I  |  ╱ ╱ ╱ ╱ I   I  |  ╱ I   ╱ I   I  |  ╱ I   ╱ ╱ ╱ I  |  ╱ I   ╱ I   I  |  ╱ ╱ I   I   I  |  ╱ ╱ I   ╱ ╱ I  |  ╱ ╱ I   I   I  |  ╱ ╱ ╱ ╱ I   I  |  ╱ ╱ ╱ ╱ I   I  |  ╱ ╱ ╱ ╱ ╱ ╱ I  |  ╱ ╱ ╱ ╱ I   I  |  ╱ I   ╱ I   I  |  ╱ I   ╱ ╱ ╱ I  |  ╱ I   ╱ I   I  \n",
      " I V I I V I V I | I V I I V I V I | I V I I V I V I | I V I I V I V I | I V I I V I V I | I V I I V I V I | I V I I V I V I | I V I I V I V I | I V I I V I V I | I V I I V I V I | I V I I V I V I | I V I I V I V I | I V I I V I V I | I V I I V I V I | I V I I V I V I | I V I I V I V I | I V I I V I V I | I V I I V I V I | I V I I V I V I | I V I I V I V I | I V I I V I V I | I V I I V I V I | I V I I V I V I | I V I I V I V I | I V I I V I V I | I V I I V I V I | I V I I V I V I | I V I I V I V I | I V I I V I V I | I V I I V I V I | I V I I V I V I | I V I I V I V I | I V I I V I V I | I V I I V I V I | I V I I V I V I | I V I I V I V I | I V I I V I V I \n"
     ]
    }
   ],
   "source": [
    "trees = grammar.get_trees()\n",
    "print(f\"{len(trees)} possible parse trees\")\n",
    "print(cat_pretty(trees, crosses=True, grid_off=True))"
   ]
  }
 ],
 "metadata": {
  "kernelspec": {
   "display_name": "Python 3 (ipykernel)",
   "language": "python",
   "name": "python3"
  },
  "language_info": {
   "codemirror_mode": {
    "name": "ipython",
    "version": 3
   },
   "file_extension": ".py",
   "mimetype": "text/x-python",
   "name": "python",
   "nbconvert_exporter": "python",
   "pygments_lexer": "ipython3",
   "version": "3.10.16"
  }
 },
 "nbformat": 4,
 "nbformat_minor": 5
}
